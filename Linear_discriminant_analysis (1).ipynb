{
  "cells": [
    {
      "cell_type": "code",
      "execution_count": null,
      "id": "a5b05b61",
      "metadata": {
        "id": "a5b05b61"
      },
      "outputs": [],
      "source": [
        "import pandas as pd\n",
        "import numpy as np"
      ]
    },
    {
      "cell_type": "code",
      "execution_count": null,
      "id": "7453ec21",
      "metadata": {
        "id": "7453ec21"
      },
      "outputs": [],
      "source": [
        "df=pd.read_excel(\"/content/data for discriminanat analysis.xlsx\")"
      ]
    },
    {
      "cell_type": "code",
      "execution_count": null,
      "id": "e0003c40",
      "metadata": {
        "colab": {
          "base_uri": "https://localhost:8080/",
          "height": 267
        },
        "id": "e0003c40",
        "outputId": "ea72351d-d06b-40bf-9be2-fc7edf1b8d5c"
      },
      "outputs": [
        {
          "output_type": "execute_result",
          "data": {
            "text/plain": [
              "   eligibility score  age  year_emp  income  cred_debt  other_debt  \\\n",
              "0                5.5   47        22      81       1.51        2.95   \n",
              "1                3.6   40        22      95       0.63        2.79   \n",
              "2                3.4   35        16      36       0.18        1.05   \n",
              "3                0.4   43        16      89       0.16        0.20   \n",
              "4               12.8   47        26     100       4.58        8.22   \n",
              "\n",
              "   Unnamed: 6 Unnamed: 7  Unnamed: 8 Unnamed: 9 Unnamed: 10  \n",
              "0         NaN        NaN         NaN        NaN         NaN  \n",
              "1         NaN        NaN         NaN        NaN         NaN  \n",
              "2         NaN        NaN         NaN        NaN         NaN  \n",
              "3         NaN        NaN         NaN        NaN         NaN  \n",
              "4         NaN        NaN         NaN        NaN         NaN  "
            ],
            "text/html": [
              "\n",
              "  <div id=\"df-8bbaef56-b5d0-4488-91a9-be742325f393\">\n",
              "    <div class=\"colab-df-container\">\n",
              "      <div>\n",
              "<style scoped>\n",
              "    .dataframe tbody tr th:only-of-type {\n",
              "        vertical-align: middle;\n",
              "    }\n",
              "\n",
              "    .dataframe tbody tr th {\n",
              "        vertical-align: top;\n",
              "    }\n",
              "\n",
              "    .dataframe thead th {\n",
              "        text-align: right;\n",
              "    }\n",
              "</style>\n",
              "<table border=\"1\" class=\"dataframe\">\n",
              "  <thead>\n",
              "    <tr style=\"text-align: right;\">\n",
              "      <th></th>\n",
              "      <th>eligibility score</th>\n",
              "      <th>age</th>\n",
              "      <th>year_emp</th>\n",
              "      <th>income</th>\n",
              "      <th>cred_debt</th>\n",
              "      <th>other_debt</th>\n",
              "      <th>Unnamed: 6</th>\n",
              "      <th>Unnamed: 7</th>\n",
              "      <th>Unnamed: 8</th>\n",
              "      <th>Unnamed: 9</th>\n",
              "      <th>Unnamed: 10</th>\n",
              "    </tr>\n",
              "  </thead>\n",
              "  <tbody>\n",
              "    <tr>\n",
              "      <th>0</th>\n",
              "      <td>5.5</td>\n",
              "      <td>47</td>\n",
              "      <td>22</td>\n",
              "      <td>81</td>\n",
              "      <td>1.51</td>\n",
              "      <td>2.95</td>\n",
              "      <td>NaN</td>\n",
              "      <td>NaN</td>\n",
              "      <td>NaN</td>\n",
              "      <td>NaN</td>\n",
              "      <td>NaN</td>\n",
              "    </tr>\n",
              "    <tr>\n",
              "      <th>1</th>\n",
              "      <td>3.6</td>\n",
              "      <td>40</td>\n",
              "      <td>22</td>\n",
              "      <td>95</td>\n",
              "      <td>0.63</td>\n",
              "      <td>2.79</td>\n",
              "      <td>NaN</td>\n",
              "      <td>NaN</td>\n",
              "      <td>NaN</td>\n",
              "      <td>NaN</td>\n",
              "      <td>NaN</td>\n",
              "    </tr>\n",
              "    <tr>\n",
              "      <th>2</th>\n",
              "      <td>3.4</td>\n",
              "      <td>35</td>\n",
              "      <td>16</td>\n",
              "      <td>36</td>\n",
              "      <td>0.18</td>\n",
              "      <td>1.05</td>\n",
              "      <td>NaN</td>\n",
              "      <td>NaN</td>\n",
              "      <td>NaN</td>\n",
              "      <td>NaN</td>\n",
              "      <td>NaN</td>\n",
              "    </tr>\n",
              "    <tr>\n",
              "      <th>3</th>\n",
              "      <td>0.4</td>\n",
              "      <td>43</td>\n",
              "      <td>16</td>\n",
              "      <td>89</td>\n",
              "      <td>0.16</td>\n",
              "      <td>0.20</td>\n",
              "      <td>NaN</td>\n",
              "      <td>NaN</td>\n",
              "      <td>NaN</td>\n",
              "      <td>NaN</td>\n",
              "      <td>NaN</td>\n",
              "    </tr>\n",
              "    <tr>\n",
              "      <th>4</th>\n",
              "      <td>12.8</td>\n",
              "      <td>47</td>\n",
              "      <td>26</td>\n",
              "      <td>100</td>\n",
              "      <td>4.58</td>\n",
              "      <td>8.22</td>\n",
              "      <td>NaN</td>\n",
              "      <td>NaN</td>\n",
              "      <td>NaN</td>\n",
              "      <td>NaN</td>\n",
              "      <td>NaN</td>\n",
              "    </tr>\n",
              "  </tbody>\n",
              "</table>\n",
              "</div>\n",
              "      <button class=\"colab-df-convert\" onclick=\"convertToInteractive('df-8bbaef56-b5d0-4488-91a9-be742325f393')\"\n",
              "              title=\"Convert this dataframe to an interactive table.\"\n",
              "              style=\"display:none;\">\n",
              "        \n",
              "  <svg xmlns=\"http://www.w3.org/2000/svg\" height=\"24px\"viewBox=\"0 0 24 24\"\n",
              "       width=\"24px\">\n",
              "    <path d=\"M0 0h24v24H0V0z\" fill=\"none\"/>\n",
              "    <path d=\"M18.56 5.44l.94 2.06.94-2.06 2.06-.94-2.06-.94-.94-2.06-.94 2.06-2.06.94zm-11 1L8.5 8.5l.94-2.06 2.06-.94-2.06-.94L8.5 2.5l-.94 2.06-2.06.94zm10 10l.94 2.06.94-2.06 2.06-.94-2.06-.94-.94-2.06-.94 2.06-2.06.94z\"/><path d=\"M17.41 7.96l-1.37-1.37c-.4-.4-.92-.59-1.43-.59-.52 0-1.04.2-1.43.59L10.3 9.45l-7.72 7.72c-.78.78-.78 2.05 0 2.83L4 21.41c.39.39.9.59 1.41.59.51 0 1.02-.2 1.41-.59l7.78-7.78 2.81-2.81c.8-.78.8-2.07 0-2.86zM5.41 20L4 18.59l7.72-7.72 1.47 1.35L5.41 20z\"/>\n",
              "  </svg>\n",
              "      </button>\n",
              "      \n",
              "  <style>\n",
              "    .colab-df-container {\n",
              "      display:flex;\n",
              "      flex-wrap:wrap;\n",
              "      gap: 12px;\n",
              "    }\n",
              "\n",
              "    .colab-df-convert {\n",
              "      background-color: #E8F0FE;\n",
              "      border: none;\n",
              "      border-radius: 50%;\n",
              "      cursor: pointer;\n",
              "      display: none;\n",
              "      fill: #1967D2;\n",
              "      height: 32px;\n",
              "      padding: 0 0 0 0;\n",
              "      width: 32px;\n",
              "    }\n",
              "\n",
              "    .colab-df-convert:hover {\n",
              "      background-color: #E2EBFA;\n",
              "      box-shadow: 0px 1px 2px rgba(60, 64, 67, 0.3), 0px 1px 3px 1px rgba(60, 64, 67, 0.15);\n",
              "      fill: #174EA6;\n",
              "    }\n",
              "\n",
              "    [theme=dark] .colab-df-convert {\n",
              "      background-color: #3B4455;\n",
              "      fill: #D2E3FC;\n",
              "    }\n",
              "\n",
              "    [theme=dark] .colab-df-convert:hover {\n",
              "      background-color: #434B5C;\n",
              "      box-shadow: 0px 1px 3px 1px rgba(0, 0, 0, 0.15);\n",
              "      filter: drop-shadow(0px 1px 2px rgba(0, 0, 0, 0.3));\n",
              "      fill: #FFFFFF;\n",
              "    }\n",
              "  </style>\n",
              "\n",
              "      <script>\n",
              "        const buttonEl =\n",
              "          document.querySelector('#df-8bbaef56-b5d0-4488-91a9-be742325f393 button.colab-df-convert');\n",
              "        buttonEl.style.display =\n",
              "          google.colab.kernel.accessAllowed ? 'block' : 'none';\n",
              "\n",
              "        async function convertToInteractive(key) {\n",
              "          const element = document.querySelector('#df-8bbaef56-b5d0-4488-91a9-be742325f393');\n",
              "          const dataTable =\n",
              "            await google.colab.kernel.invokeFunction('convertToInteractive',\n",
              "                                                     [key], {});\n",
              "          if (!dataTable) return;\n",
              "\n",
              "          const docLinkHtml = 'Like what you see? Visit the ' +\n",
              "            '<a target=\"_blank\" href=https://colab.research.google.com/notebooks/data_table.ipynb>data table notebook</a>'\n",
              "            + ' to learn more about interactive tables.';\n",
              "          element.innerHTML = '';\n",
              "          dataTable['output_type'] = 'display_data';\n",
              "          await google.colab.output.renderOutput(dataTable, element);\n",
              "          const docLink = document.createElement('div');\n",
              "          docLink.innerHTML = docLinkHtml;\n",
              "          element.appendChild(docLink);\n",
              "        }\n",
              "      </script>\n",
              "    </div>\n",
              "  </div>\n",
              "  "
            ]
          },
          "metadata": {},
          "execution_count": 55
        }
      ],
      "source": [
        "df.head()"
      ]
    },
    {
      "cell_type": "markdown",
      "id": "09ec9577",
      "metadata": {
        "id": "09ec9577"
      },
      "source": [
        "## Criteria 1:"
      ]
    },
    {
      "cell_type": "code",
      "execution_count": null,
      "id": "b8592750",
      "metadata": {
        "id": "b8592750"
      },
      "outputs": [],
      "source": [
        "no=df[df['eligibility score']<=10]\n",
        "yes=df[df['eligibility score']>10]"
      ]
    },
    {
      "cell_type": "code",
      "execution_count": null,
      "id": "2999746a",
      "metadata": {
        "colab": {
          "base_uri": "https://localhost:8080/"
        },
        "id": "2999746a",
        "outputId": "54b1afb3-c79b-4682-9fb0-d10fc73f1bea"
      },
      "outputs": [
        {
          "output_type": "stream",
          "name": "stdout",
          "text": [
            "(48, 11)\n",
            "(52, 11)\n"
          ]
        }
      ],
      "source": [
        "print(yes.shape)\n",
        "print(no.shape)\n"
      ]
    },
    {
      "cell_type": "code",
      "execution_count": null,
      "id": "8c57e7f4",
      "metadata": {
        "id": "8c57e7f4"
      },
      "outputs": [],
      "source": [
        "mean_yes=yes['income'].mean()\n",
        "mean_no=no['income'].mean()"
      ]
    },
    {
      "cell_type": "code",
      "execution_count": null,
      "id": "701f1fce",
      "metadata": {
        "colab": {
          "base_uri": "https://localhost:8080/"
        },
        "id": "701f1fce",
        "outputId": "2a60fdba-c638-4d27-9b55-b9c7f3cdbe7e"
      },
      "outputs": [
        {
          "output_type": "stream",
          "name": "stdout",
          "text": [
            "In group No\n"
          ]
        }
      ],
      "source": [
        "if (77-mean_yes > 77-mean_no):\n",
        "    print(\"In group No\")\n",
        "else:\n",
        "    print(\"In grou yes\")"
      ]
    },
    {
      "cell_type": "markdown",
      "id": "862048aa",
      "metadata": {
        "id": "862048aa"
      },
      "source": [
        "## Creiteria 2:"
      ]
    },
    {
      "cell_type": "code",
      "execution_count": null,
      "id": "f6d61a51",
      "metadata": {
        "id": "f6d61a51"
      },
      "outputs": [],
      "source": [
        "a={'age':55,\n",
        "       'year_emp':11,\n",
        "       'income':77,\n",
        "   'credit_debt':2.5,\n",
        "   'other_debt':3\n",
        "  }"
      ]
    },
    {
      "cell_type": "code",
      "source": [
        "inp1=pd.DataFrame(a,index=range(1))"
      ],
      "metadata": {
        "id": "c61uYW1QR8E6"
      },
      "id": "c61uYW1QR8E6",
      "execution_count": null,
      "outputs": []
    },
    {
      "cell_type": "code",
      "source": [
        "inp1"
      ],
      "metadata": {
        "colab": {
          "base_uri": "https://localhost:8080/",
          "height": 80
        },
        "id": "2xiiV59PR_FY",
        "outputId": "8dd0ba0e-dceb-4a01-a6d3-f9dd3cb72750"
      },
      "id": "2xiiV59PR_FY",
      "execution_count": null,
      "outputs": [
        {
          "output_type": "execute_result",
          "data": {
            "text/plain": [
              "   age  year_emp  income  credit_debt  other_debt\n",
              "0   55        11      77          2.5           3"
            ],
            "text/html": [
              "\n",
              "  <div id=\"df-1f1f5139-2eda-42d9-9fe1-fdeb9e7e2221\">\n",
              "    <div class=\"colab-df-container\">\n",
              "      <div>\n",
              "<style scoped>\n",
              "    .dataframe tbody tr th:only-of-type {\n",
              "        vertical-align: middle;\n",
              "    }\n",
              "\n",
              "    .dataframe tbody tr th {\n",
              "        vertical-align: top;\n",
              "    }\n",
              "\n",
              "    .dataframe thead th {\n",
              "        text-align: right;\n",
              "    }\n",
              "</style>\n",
              "<table border=\"1\" class=\"dataframe\">\n",
              "  <thead>\n",
              "    <tr style=\"text-align: right;\">\n",
              "      <th></th>\n",
              "      <th>age</th>\n",
              "      <th>year_emp</th>\n",
              "      <th>income</th>\n",
              "      <th>credit_debt</th>\n",
              "      <th>other_debt</th>\n",
              "    </tr>\n",
              "  </thead>\n",
              "  <tbody>\n",
              "    <tr>\n",
              "      <th>0</th>\n",
              "      <td>55</td>\n",
              "      <td>11</td>\n",
              "      <td>77</td>\n",
              "      <td>2.5</td>\n",
              "      <td>3</td>\n",
              "    </tr>\n",
              "  </tbody>\n",
              "</table>\n",
              "</div>\n",
              "      <button class=\"colab-df-convert\" onclick=\"convertToInteractive('df-1f1f5139-2eda-42d9-9fe1-fdeb9e7e2221')\"\n",
              "              title=\"Convert this dataframe to an interactive table.\"\n",
              "              style=\"display:none;\">\n",
              "        \n",
              "  <svg xmlns=\"http://www.w3.org/2000/svg\" height=\"24px\"viewBox=\"0 0 24 24\"\n",
              "       width=\"24px\">\n",
              "    <path d=\"M0 0h24v24H0V0z\" fill=\"none\"/>\n",
              "    <path d=\"M18.56 5.44l.94 2.06.94-2.06 2.06-.94-2.06-.94-.94-2.06-.94 2.06-2.06.94zm-11 1L8.5 8.5l.94-2.06 2.06-.94-2.06-.94L8.5 2.5l-.94 2.06-2.06.94zm10 10l.94 2.06.94-2.06 2.06-.94-2.06-.94-.94-2.06-.94 2.06-2.06.94z\"/><path d=\"M17.41 7.96l-1.37-1.37c-.4-.4-.92-.59-1.43-.59-.52 0-1.04.2-1.43.59L10.3 9.45l-7.72 7.72c-.78.78-.78 2.05 0 2.83L4 21.41c.39.39.9.59 1.41.59.51 0 1.02-.2 1.41-.59l7.78-7.78 2.81-2.81c.8-.78.8-2.07 0-2.86zM5.41 20L4 18.59l7.72-7.72 1.47 1.35L5.41 20z\"/>\n",
              "  </svg>\n",
              "      </button>\n",
              "      \n",
              "  <style>\n",
              "    .colab-df-container {\n",
              "      display:flex;\n",
              "      flex-wrap:wrap;\n",
              "      gap: 12px;\n",
              "    }\n",
              "\n",
              "    .colab-df-convert {\n",
              "      background-color: #E8F0FE;\n",
              "      border: none;\n",
              "      border-radius: 50%;\n",
              "      cursor: pointer;\n",
              "      display: none;\n",
              "      fill: #1967D2;\n",
              "      height: 32px;\n",
              "      padding: 0 0 0 0;\n",
              "      width: 32px;\n",
              "    }\n",
              "\n",
              "    .colab-df-convert:hover {\n",
              "      background-color: #E2EBFA;\n",
              "      box-shadow: 0px 1px 2px rgba(60, 64, 67, 0.3), 0px 1px 3px 1px rgba(60, 64, 67, 0.15);\n",
              "      fill: #174EA6;\n",
              "    }\n",
              "\n",
              "    [theme=dark] .colab-df-convert {\n",
              "      background-color: #3B4455;\n",
              "      fill: #D2E3FC;\n",
              "    }\n",
              "\n",
              "    [theme=dark] .colab-df-convert:hover {\n",
              "      background-color: #434B5C;\n",
              "      box-shadow: 0px 1px 3px 1px rgba(0, 0, 0, 0.15);\n",
              "      filter: drop-shadow(0px 1px 2px rgba(0, 0, 0, 0.3));\n",
              "      fill: #FFFFFF;\n",
              "    }\n",
              "  </style>\n",
              "\n",
              "      <script>\n",
              "        const buttonEl =\n",
              "          document.querySelector('#df-1f1f5139-2eda-42d9-9fe1-fdeb9e7e2221 button.colab-df-convert');\n",
              "        buttonEl.style.display =\n",
              "          google.colab.kernel.accessAllowed ? 'block' : 'none';\n",
              "\n",
              "        async function convertToInteractive(key) {\n",
              "          const element = document.querySelector('#df-1f1f5139-2eda-42d9-9fe1-fdeb9e7e2221');\n",
              "          const dataTable =\n",
              "            await google.colab.kernel.invokeFunction('convertToInteractive',\n",
              "                                                     [key], {});\n",
              "          if (!dataTable) return;\n",
              "\n",
              "          const docLinkHtml = 'Like what you see? Visit the ' +\n",
              "            '<a target=\"_blank\" href=https://colab.research.google.com/notebooks/data_table.ipynb>data table notebook</a>'\n",
              "            + ' to learn more about interactive tables.';\n",
              "          element.innerHTML = '';\n",
              "          dataTable['output_type'] = 'display_data';\n",
              "          await google.colab.output.renderOutput(dataTable, element);\n",
              "          const docLink = document.createElement('div');\n",
              "          docLink.innerHTML = docLinkHtml;\n",
              "          element.appendChild(docLink);\n",
              "        }\n",
              "      </script>\n",
              "    </div>\n",
              "  </div>\n",
              "  "
            ]
          },
          "metadata": {},
          "execution_count": 62
        }
      ]
    },
    {
      "cell_type": "code",
      "execution_count": null,
      "id": "1f8c1c50",
      "metadata": {
        "id": "1f8c1c50"
      },
      "outputs": [],
      "source": [
        "\n",
        "inp=inp1[['age','year_emp','income']]"
      ]
    },
    {
      "cell_type": "code",
      "source": [
        "inp"
      ],
      "metadata": {
        "colab": {
          "base_uri": "https://localhost:8080/",
          "height": 80
        },
        "id": "7WOMsxMCSEbb",
        "outputId": "32b01572-eeb2-416b-9cae-44cda4afdf85"
      },
      "id": "7WOMsxMCSEbb",
      "execution_count": null,
      "outputs": [
        {
          "output_type": "execute_result",
          "data": {
            "text/plain": [
              "   age  year_emp  income\n",
              "0   55        11      77"
            ],
            "text/html": [
              "\n",
              "  <div id=\"df-500537f7-481b-47a2-9bd6-92ebc10c2b1b\">\n",
              "    <div class=\"colab-df-container\">\n",
              "      <div>\n",
              "<style scoped>\n",
              "    .dataframe tbody tr th:only-of-type {\n",
              "        vertical-align: middle;\n",
              "    }\n",
              "\n",
              "    .dataframe tbody tr th {\n",
              "        vertical-align: top;\n",
              "    }\n",
              "\n",
              "    .dataframe thead th {\n",
              "        text-align: right;\n",
              "    }\n",
              "</style>\n",
              "<table border=\"1\" class=\"dataframe\">\n",
              "  <thead>\n",
              "    <tr style=\"text-align: right;\">\n",
              "      <th></th>\n",
              "      <th>age</th>\n",
              "      <th>year_emp</th>\n",
              "      <th>income</th>\n",
              "    </tr>\n",
              "  </thead>\n",
              "  <tbody>\n",
              "    <tr>\n",
              "      <th>0</th>\n",
              "      <td>55</td>\n",
              "      <td>11</td>\n",
              "      <td>77</td>\n",
              "    </tr>\n",
              "  </tbody>\n",
              "</table>\n",
              "</div>\n",
              "      <button class=\"colab-df-convert\" onclick=\"convertToInteractive('df-500537f7-481b-47a2-9bd6-92ebc10c2b1b')\"\n",
              "              title=\"Convert this dataframe to an interactive table.\"\n",
              "              style=\"display:none;\">\n",
              "        \n",
              "  <svg xmlns=\"http://www.w3.org/2000/svg\" height=\"24px\"viewBox=\"0 0 24 24\"\n",
              "       width=\"24px\">\n",
              "    <path d=\"M0 0h24v24H0V0z\" fill=\"none\"/>\n",
              "    <path d=\"M18.56 5.44l.94 2.06.94-2.06 2.06-.94-2.06-.94-.94-2.06-.94 2.06-2.06.94zm-11 1L8.5 8.5l.94-2.06 2.06-.94-2.06-.94L8.5 2.5l-.94 2.06-2.06.94zm10 10l.94 2.06.94-2.06 2.06-.94-2.06-.94-.94-2.06-.94 2.06-2.06.94z\"/><path d=\"M17.41 7.96l-1.37-1.37c-.4-.4-.92-.59-1.43-.59-.52 0-1.04.2-1.43.59L10.3 9.45l-7.72 7.72c-.78.78-.78 2.05 0 2.83L4 21.41c.39.39.9.59 1.41.59.51 0 1.02-.2 1.41-.59l7.78-7.78 2.81-2.81c.8-.78.8-2.07 0-2.86zM5.41 20L4 18.59l7.72-7.72 1.47 1.35L5.41 20z\"/>\n",
              "  </svg>\n",
              "      </button>\n",
              "      \n",
              "  <style>\n",
              "    .colab-df-container {\n",
              "      display:flex;\n",
              "      flex-wrap:wrap;\n",
              "      gap: 12px;\n",
              "    }\n",
              "\n",
              "    .colab-df-convert {\n",
              "      background-color: #E8F0FE;\n",
              "      border: none;\n",
              "      border-radius: 50%;\n",
              "      cursor: pointer;\n",
              "      display: none;\n",
              "      fill: #1967D2;\n",
              "      height: 32px;\n",
              "      padding: 0 0 0 0;\n",
              "      width: 32px;\n",
              "    }\n",
              "\n",
              "    .colab-df-convert:hover {\n",
              "      background-color: #E2EBFA;\n",
              "      box-shadow: 0px 1px 2px rgba(60, 64, 67, 0.3), 0px 1px 3px 1px rgba(60, 64, 67, 0.15);\n",
              "      fill: #174EA6;\n",
              "    }\n",
              "\n",
              "    [theme=dark] .colab-df-convert {\n",
              "      background-color: #3B4455;\n",
              "      fill: #D2E3FC;\n",
              "    }\n",
              "\n",
              "    [theme=dark] .colab-df-convert:hover {\n",
              "      background-color: #434B5C;\n",
              "      box-shadow: 0px 1px 3px 1px rgba(0, 0, 0, 0.15);\n",
              "      filter: drop-shadow(0px 1px 2px rgba(0, 0, 0, 0.3));\n",
              "      fill: #FFFFFF;\n",
              "    }\n",
              "  </style>\n",
              "\n",
              "      <script>\n",
              "        const buttonEl =\n",
              "          document.querySelector('#df-500537f7-481b-47a2-9bd6-92ebc10c2b1b button.colab-df-convert');\n",
              "        buttonEl.style.display =\n",
              "          google.colab.kernel.accessAllowed ? 'block' : 'none';\n",
              "\n",
              "        async function convertToInteractive(key) {\n",
              "          const element = document.querySelector('#df-500537f7-481b-47a2-9bd6-92ebc10c2b1b');\n",
              "          const dataTable =\n",
              "            await google.colab.kernel.invokeFunction('convertToInteractive',\n",
              "                                                     [key], {});\n",
              "          if (!dataTable) return;\n",
              "\n",
              "          const docLinkHtml = 'Like what you see? Visit the ' +\n",
              "            '<a target=\"_blank\" href=https://colab.research.google.com/notebooks/data_table.ipynb>data table notebook</a>'\n",
              "            + ' to learn more about interactive tables.';\n",
              "          element.innerHTML = '';\n",
              "          dataTable['output_type'] = 'display_data';\n",
              "          await google.colab.output.renderOutput(dataTable, element);\n",
              "          const docLink = document.createElement('div');\n",
              "          docLink.innerHTML = docLinkHtml;\n",
              "          element.appendChild(docLink);\n",
              "        }\n",
              "      </script>\n",
              "    </div>\n",
              "  </div>\n",
              "  "
            ]
          },
          "metadata": {},
          "execution_count": 64
        }
      ]
    },
    {
      "cell_type": "code",
      "execution_count": null,
      "id": "708d5dc0",
      "metadata": {
        "id": "708d5dc0"
      },
      "outputs": [],
      "source": [
        "mean_yes=yes[['age','year_emp','income']].mean()\n",
        "mean_no=no[['age','year_emp','income']].mean()"
      ]
    },
    {
      "cell_type": "code",
      "execution_count": null,
      "id": "eeaa4364",
      "metadata": {
        "id": "eeaa4364"
      },
      "outputs": [],
      "source": [
        "sum_yes=0\n",
        "for i in inp.columns:\n",
        "    sum_yes=sum_yes+(inp[i]-mean_yes[i])**2\n",
        "y=np.sqrt(sum_yes)\n"
      ]
    },
    {
      "cell_type": "code",
      "execution_count": null,
      "id": "563431dd",
      "metadata": {
        "id": "563431dd"
      },
      "outputs": [],
      "source": [
        "sum_no=0\n",
        "for i in inp.columns:\n",
        "    sum_no=sum_no+(inp[i]-mean_no[i])**2\n",
        "n=np.sqrt(sum_no)"
      ]
    },
    {
      "cell_type": "code",
      "execution_count": null,
      "id": "b49fb154",
      "metadata": {
        "colab": {
          "base_uri": "https://localhost:8080/"
        },
        "id": "b49fb154",
        "outputId": "cf67980c-0a1d-4814-dd7d-9b737c2a4846"
      },
      "outputs": [
        {
          "output_type": "stream",
          "name": "stdout",
          "text": [
            "Assign to no\n"
          ]
        }
      ],
      "source": [
        "if y[0]>n[0]:\n",
        "    print(\"Assign to no\")\n",
        "else:\n",
        "    print(\"Assign to yes\")"
      ]
    },
    {
      "cell_type": "markdown",
      "id": "e7fe3189",
      "metadata": {
        "id": "e7fe3189"
      },
      "source": [
        "## Criteria 3"
      ]
    },
    {
      "cell_type": "code",
      "execution_count": null,
      "id": "9e3ab2cd",
      "metadata": {
        "id": "9e3ab2cd"
      },
      "outputs": [],
      "source": [
        "a=np.array([yes['age'],yes['year_emp'],yes['income']])\n",
        "covmatrix=np.cov(a)"
      ]
    },
    {
      "cell_type": "code",
      "execution_count": null,
      "id": "06195501",
      "metadata": {
        "colab": {
          "base_uri": "https://localhost:8080/"
        },
        "id": "06195501",
        "outputId": "57dfe5bb-4a4f-415b-8cb3-15c8790e7f8c"
      },
      "outputs": [
        {
          "output_type": "execute_result",
          "data": {
            "text/plain": [
              "array([[ 59.53014184,  22.07624113, 108.30673759],\n",
              "       [ 22.07624113,  44.93439716, 125.61879433],\n",
              "       [108.30673759, 125.61879433, 643.35992908]])"
            ]
          },
          "metadata": {},
          "execution_count": 70
        }
      ],
      "source": [
        "covmatrix"
      ]
    },
    {
      "cell_type": "code",
      "execution_count": null,
      "id": "d5d3f1be",
      "metadata": {
        "id": "d5d3f1be"
      },
      "outputs": [],
      "source": [
        "inv=np.linalg.inv(covmatrix)"
      ]
    },
    {
      "cell_type": "code",
      "execution_count": null,
      "id": "8d1599dd",
      "metadata": {
        "id": "8d1599dd"
      },
      "outputs": [],
      "source": [
        "sum_no=[]\n",
        "for i in inp.columns:\n",
        "    sum_no.append(sum(inp[i]-mean_no[i]))\n",
        "t_n=np.array(sum_no)\n",
        "n_t=t_n.transpose()\n"
      ]
    },
    {
      "cell_type": "code",
      "execution_count": null,
      "id": "7d3d65f6",
      "metadata": {
        "id": "7d3d65f6"
      },
      "outputs": [],
      "source": [
        "sum_yes=[]\n",
        "for i in inp.columns:\n",
        "    sum_yes.append(sum(inp[i]-mean_yes[i]))\n",
        "t_y=np.matrix(sum_yes)\n",
        "y_t=t_y.transpose()\n"
      ]
    },
    {
      "cell_type": "code",
      "execution_count": null,
      "id": "fb50b43e",
      "metadata": {
        "colab": {
          "base_uri": "https://localhost:8080/"
        },
        "id": "fb50b43e",
        "outputId": "e89e2554-1e5b-4374-b31f-0dfb2d66823d"
      },
      "outputs": [
        {
          "output_type": "execute_result",
          "data": {
            "text/plain": [
              "matrix([[2.80225825]])"
            ]
          },
          "metadata": {},
          "execution_count": 74
        }
      ],
      "source": [
        "#yes\n",
        "y_=np.sqrt(np.dot(np.dot(t_y,inv),y_t))\n",
        "y_"
      ]
    },
    {
      "cell_type": "code",
      "execution_count": null,
      "id": "ef925ac2",
      "metadata": {
        "colab": {
          "base_uri": "https://localhost:8080/"
        },
        "id": "ef925ac2",
        "outputId": "2e6fed11-7fe0-4e8f-f455-2fc978f782da"
      },
      "outputs": [
        {
          "output_type": "execute_result",
          "data": {
            "text/plain": [
              "2.842011294568633"
            ]
          },
          "metadata": {},
          "execution_count": 75
        }
      ],
      "source": [
        "# no\n",
        "n_=np.sqrt(np.dot(np.dot(t_n,inv),n_t))\n",
        "n_"
      ]
    },
    {
      "cell_type": "code",
      "execution_count": null,
      "id": "7ffa7137",
      "metadata": {
        "colab": {
          "base_uri": "https://localhost:8080/"
        },
        "id": "7ffa7137",
        "outputId": "169eda75-5d02-49cc-b876-ddaba782d3df"
      },
      "outputs": [
        {
          "output_type": "stream",
          "name": "stdout",
          "text": [
            "Assign to yes\n"
          ]
        }
      ],
      "source": [
        "if(y_>n_):\n",
        "    print(\"Assign to no\")\n",
        "else:\n",
        "    print(\"Assign to yes\")"
      ]
    },
    {
      "cell_type": "markdown",
      "id": "ee9de9f2",
      "metadata": {
        "id": "ee9de9f2"
      },
      "source": [
        "## Criteria :4 "
      ]
    },
    {
      "cell_type": "code",
      "execution_count": null,
      "id": "54aa4eef",
      "metadata": {
        "colab": {
          "base_uri": "https://localhost:8080/",
          "height": 267
        },
        "id": "54aa4eef",
        "outputId": "cebb2524-bab3-4b61-fd63-eb8e9a540c08"
      },
      "outputs": [
        {
          "output_type": "execute_result",
          "data": {
            "text/plain": [
              "   eligibility score  age  year_emp  income  cred_debt  other_debt  \\\n",
              "0                5.5   47        22      81       1.51        2.95   \n",
              "1                3.6   40        22      95       0.63        2.79   \n",
              "2                3.4   35        16      36       0.18        1.05   \n",
              "3                0.4   43        16      89       0.16        0.20   \n",
              "4               12.8   47        26     100       4.58        8.22   \n",
              "\n",
              "   Unnamed: 6 Unnamed: 7  Unnamed: 8 Unnamed: 9 Unnamed: 10  \n",
              "0         NaN        NaN         NaN        NaN         NaN  \n",
              "1         NaN        NaN         NaN        NaN         NaN  \n",
              "2         NaN        NaN         NaN        NaN         NaN  \n",
              "3         NaN        NaN         NaN        NaN         NaN  \n",
              "4         NaN        NaN         NaN        NaN         NaN  "
            ],
            "text/html": [
              "\n",
              "  <div id=\"df-32f19665-8667-4a9a-810c-f39df0401d8a\">\n",
              "    <div class=\"colab-df-container\">\n",
              "      <div>\n",
              "<style scoped>\n",
              "    .dataframe tbody tr th:only-of-type {\n",
              "        vertical-align: middle;\n",
              "    }\n",
              "\n",
              "    .dataframe tbody tr th {\n",
              "        vertical-align: top;\n",
              "    }\n",
              "\n",
              "    .dataframe thead th {\n",
              "        text-align: right;\n",
              "    }\n",
              "</style>\n",
              "<table border=\"1\" class=\"dataframe\">\n",
              "  <thead>\n",
              "    <tr style=\"text-align: right;\">\n",
              "      <th></th>\n",
              "      <th>eligibility score</th>\n",
              "      <th>age</th>\n",
              "      <th>year_emp</th>\n",
              "      <th>income</th>\n",
              "      <th>cred_debt</th>\n",
              "      <th>other_debt</th>\n",
              "      <th>Unnamed: 6</th>\n",
              "      <th>Unnamed: 7</th>\n",
              "      <th>Unnamed: 8</th>\n",
              "      <th>Unnamed: 9</th>\n",
              "      <th>Unnamed: 10</th>\n",
              "    </tr>\n",
              "  </thead>\n",
              "  <tbody>\n",
              "    <tr>\n",
              "      <th>0</th>\n",
              "      <td>5.5</td>\n",
              "      <td>47</td>\n",
              "      <td>22</td>\n",
              "      <td>81</td>\n",
              "      <td>1.51</td>\n",
              "      <td>2.95</td>\n",
              "      <td>NaN</td>\n",
              "      <td>NaN</td>\n",
              "      <td>NaN</td>\n",
              "      <td>NaN</td>\n",
              "      <td>NaN</td>\n",
              "    </tr>\n",
              "    <tr>\n",
              "      <th>1</th>\n",
              "      <td>3.6</td>\n",
              "      <td>40</td>\n",
              "      <td>22</td>\n",
              "      <td>95</td>\n",
              "      <td>0.63</td>\n",
              "      <td>2.79</td>\n",
              "      <td>NaN</td>\n",
              "      <td>NaN</td>\n",
              "      <td>NaN</td>\n",
              "      <td>NaN</td>\n",
              "      <td>NaN</td>\n",
              "    </tr>\n",
              "    <tr>\n",
              "      <th>2</th>\n",
              "      <td>3.4</td>\n",
              "      <td>35</td>\n",
              "      <td>16</td>\n",
              "      <td>36</td>\n",
              "      <td>0.18</td>\n",
              "      <td>1.05</td>\n",
              "      <td>NaN</td>\n",
              "      <td>NaN</td>\n",
              "      <td>NaN</td>\n",
              "      <td>NaN</td>\n",
              "      <td>NaN</td>\n",
              "    </tr>\n",
              "    <tr>\n",
              "      <th>3</th>\n",
              "      <td>0.4</td>\n",
              "      <td>43</td>\n",
              "      <td>16</td>\n",
              "      <td>89</td>\n",
              "      <td>0.16</td>\n",
              "      <td>0.20</td>\n",
              "      <td>NaN</td>\n",
              "      <td>NaN</td>\n",
              "      <td>NaN</td>\n",
              "      <td>NaN</td>\n",
              "      <td>NaN</td>\n",
              "    </tr>\n",
              "    <tr>\n",
              "      <th>4</th>\n",
              "      <td>12.8</td>\n",
              "      <td>47</td>\n",
              "      <td>26</td>\n",
              "      <td>100</td>\n",
              "      <td>4.58</td>\n",
              "      <td>8.22</td>\n",
              "      <td>NaN</td>\n",
              "      <td>NaN</td>\n",
              "      <td>NaN</td>\n",
              "      <td>NaN</td>\n",
              "      <td>NaN</td>\n",
              "    </tr>\n",
              "  </tbody>\n",
              "</table>\n",
              "</div>\n",
              "      <button class=\"colab-df-convert\" onclick=\"convertToInteractive('df-32f19665-8667-4a9a-810c-f39df0401d8a')\"\n",
              "              title=\"Convert this dataframe to an interactive table.\"\n",
              "              style=\"display:none;\">\n",
              "        \n",
              "  <svg xmlns=\"http://www.w3.org/2000/svg\" height=\"24px\"viewBox=\"0 0 24 24\"\n",
              "       width=\"24px\">\n",
              "    <path d=\"M0 0h24v24H0V0z\" fill=\"none\"/>\n",
              "    <path d=\"M18.56 5.44l.94 2.06.94-2.06 2.06-.94-2.06-.94-.94-2.06-.94 2.06-2.06.94zm-11 1L8.5 8.5l.94-2.06 2.06-.94-2.06-.94L8.5 2.5l-.94 2.06-2.06.94zm10 10l.94 2.06.94-2.06 2.06-.94-2.06-.94-.94-2.06-.94 2.06-2.06.94z\"/><path d=\"M17.41 7.96l-1.37-1.37c-.4-.4-.92-.59-1.43-.59-.52 0-1.04.2-1.43.59L10.3 9.45l-7.72 7.72c-.78.78-.78 2.05 0 2.83L4 21.41c.39.39.9.59 1.41.59.51 0 1.02-.2 1.41-.59l7.78-7.78 2.81-2.81c.8-.78.8-2.07 0-2.86zM5.41 20L4 18.59l7.72-7.72 1.47 1.35L5.41 20z\"/>\n",
              "  </svg>\n",
              "      </button>\n",
              "      \n",
              "  <style>\n",
              "    .colab-df-container {\n",
              "      display:flex;\n",
              "      flex-wrap:wrap;\n",
              "      gap: 12px;\n",
              "    }\n",
              "\n",
              "    .colab-df-convert {\n",
              "      background-color: #E8F0FE;\n",
              "      border: none;\n",
              "      border-radius: 50%;\n",
              "      cursor: pointer;\n",
              "      display: none;\n",
              "      fill: #1967D2;\n",
              "      height: 32px;\n",
              "      padding: 0 0 0 0;\n",
              "      width: 32px;\n",
              "    }\n",
              "\n",
              "    .colab-df-convert:hover {\n",
              "      background-color: #E2EBFA;\n",
              "      box-shadow: 0px 1px 2px rgba(60, 64, 67, 0.3), 0px 1px 3px 1px rgba(60, 64, 67, 0.15);\n",
              "      fill: #174EA6;\n",
              "    }\n",
              "\n",
              "    [theme=dark] .colab-df-convert {\n",
              "      background-color: #3B4455;\n",
              "      fill: #D2E3FC;\n",
              "    }\n",
              "\n",
              "    [theme=dark] .colab-df-convert:hover {\n",
              "      background-color: #434B5C;\n",
              "      box-shadow: 0px 1px 3px 1px rgba(0, 0, 0, 0.15);\n",
              "      filter: drop-shadow(0px 1px 2px rgba(0, 0, 0, 0.3));\n",
              "      fill: #FFFFFF;\n",
              "    }\n",
              "  </style>\n",
              "\n",
              "      <script>\n",
              "        const buttonEl =\n",
              "          document.querySelector('#df-32f19665-8667-4a9a-810c-f39df0401d8a button.colab-df-convert');\n",
              "        buttonEl.style.display =\n",
              "          google.colab.kernel.accessAllowed ? 'block' : 'none';\n",
              "\n",
              "        async function convertToInteractive(key) {\n",
              "          const element = document.querySelector('#df-32f19665-8667-4a9a-810c-f39df0401d8a');\n",
              "          const dataTable =\n",
              "            await google.colab.kernel.invokeFunction('convertToInteractive',\n",
              "                                                     [key], {});\n",
              "          if (!dataTable) return;\n",
              "\n",
              "          const docLinkHtml = 'Like what you see? Visit the ' +\n",
              "            '<a target=\"_blank\" href=https://colab.research.google.com/notebooks/data_table.ipynb>data table notebook</a>'\n",
              "            + ' to learn more about interactive tables.';\n",
              "          element.innerHTML = '';\n",
              "          dataTable['output_type'] = 'display_data';\n",
              "          await google.colab.output.renderOutput(dataTable, element);\n",
              "          const docLink = document.createElement('div');\n",
              "          docLink.innerHTML = docLinkHtml;\n",
              "          element.appendChild(docLink);\n",
              "        }\n",
              "      </script>\n",
              "    </div>\n",
              "  </div>\n",
              "  "
            ]
          },
          "metadata": {},
          "execution_count": 77
        }
      ],
      "source": [
        "df.head()"
      ]
    },
    {
      "cell_type": "code",
      "execution_count": null,
      "id": "8fdaeeaf",
      "metadata": {
        "colab": {
          "base_uri": "https://localhost:8080/",
          "height": 206
        },
        "id": "8fdaeeaf",
        "outputId": "ae49bb7b-21d7-48ee-c41c-7f150f983164"
      },
      "outputs": [
        {
          "output_type": "execute_result",
          "data": {
            "text/plain": [
              "    eligibility score  age  year_emp  income  cred_debt  other_debt\n",
              "4                12.8   47        26     100       4.58        8.22\n",
              "7                10.9   36        16      32       0.54        2.94\n",
              "8                15.8   49        14      63       0.94        9.02\n",
              "13               12.0   48        17     113       3.38       10.18\n",
              "20               16.5   38        21      58       4.58        4.99"
            ],
            "text/html": [
              "\n",
              "  <div id=\"df-9275dd57-608c-43fb-937f-c2eeaeb26164\">\n",
              "    <div class=\"colab-df-container\">\n",
              "      <div>\n",
              "<style scoped>\n",
              "    .dataframe tbody tr th:only-of-type {\n",
              "        vertical-align: middle;\n",
              "    }\n",
              "\n",
              "    .dataframe tbody tr th {\n",
              "        vertical-align: top;\n",
              "    }\n",
              "\n",
              "    .dataframe thead th {\n",
              "        text-align: right;\n",
              "    }\n",
              "</style>\n",
              "<table border=\"1\" class=\"dataframe\">\n",
              "  <thead>\n",
              "    <tr style=\"text-align: right;\">\n",
              "      <th></th>\n",
              "      <th>eligibility score</th>\n",
              "      <th>age</th>\n",
              "      <th>year_emp</th>\n",
              "      <th>income</th>\n",
              "      <th>cred_debt</th>\n",
              "      <th>other_debt</th>\n",
              "    </tr>\n",
              "  </thead>\n",
              "  <tbody>\n",
              "    <tr>\n",
              "      <th>4</th>\n",
              "      <td>12.8</td>\n",
              "      <td>47</td>\n",
              "      <td>26</td>\n",
              "      <td>100</td>\n",
              "      <td>4.58</td>\n",
              "      <td>8.22</td>\n",
              "    </tr>\n",
              "    <tr>\n",
              "      <th>7</th>\n",
              "      <td>10.9</td>\n",
              "      <td>36</td>\n",
              "      <td>16</td>\n",
              "      <td>32</td>\n",
              "      <td>0.54</td>\n",
              "      <td>2.94</td>\n",
              "    </tr>\n",
              "    <tr>\n",
              "      <th>8</th>\n",
              "      <td>15.8</td>\n",
              "      <td>49</td>\n",
              "      <td>14</td>\n",
              "      <td>63</td>\n",
              "      <td>0.94</td>\n",
              "      <td>9.02</td>\n",
              "    </tr>\n",
              "    <tr>\n",
              "      <th>13</th>\n",
              "      <td>12.0</td>\n",
              "      <td>48</td>\n",
              "      <td>17</td>\n",
              "      <td>113</td>\n",
              "      <td>3.38</td>\n",
              "      <td>10.18</td>\n",
              "    </tr>\n",
              "    <tr>\n",
              "      <th>20</th>\n",
              "      <td>16.5</td>\n",
              "      <td>38</td>\n",
              "      <td>21</td>\n",
              "      <td>58</td>\n",
              "      <td>4.58</td>\n",
              "      <td>4.99</td>\n",
              "    </tr>\n",
              "  </tbody>\n",
              "</table>\n",
              "</div>\n",
              "      <button class=\"colab-df-convert\" onclick=\"convertToInteractive('df-9275dd57-608c-43fb-937f-c2eeaeb26164')\"\n",
              "              title=\"Convert this dataframe to an interactive table.\"\n",
              "              style=\"display:none;\">\n",
              "        \n",
              "  <svg xmlns=\"http://www.w3.org/2000/svg\" height=\"24px\"viewBox=\"0 0 24 24\"\n",
              "       width=\"24px\">\n",
              "    <path d=\"M0 0h24v24H0V0z\" fill=\"none\"/>\n",
              "    <path d=\"M18.56 5.44l.94 2.06.94-2.06 2.06-.94-2.06-.94-.94-2.06-.94 2.06-2.06.94zm-11 1L8.5 8.5l.94-2.06 2.06-.94-2.06-.94L8.5 2.5l-.94 2.06-2.06.94zm10 10l.94 2.06.94-2.06 2.06-.94-2.06-.94-.94-2.06-.94 2.06-2.06.94z\"/><path d=\"M17.41 7.96l-1.37-1.37c-.4-.4-.92-.59-1.43-.59-.52 0-1.04.2-1.43.59L10.3 9.45l-7.72 7.72c-.78.78-.78 2.05 0 2.83L4 21.41c.39.39.9.59 1.41.59.51 0 1.02-.2 1.41-.59l7.78-7.78 2.81-2.81c.8-.78.8-2.07 0-2.86zM5.41 20L4 18.59l7.72-7.72 1.47 1.35L5.41 20z\"/>\n",
              "  </svg>\n",
              "      </button>\n",
              "      \n",
              "  <style>\n",
              "    .colab-df-container {\n",
              "      display:flex;\n",
              "      flex-wrap:wrap;\n",
              "      gap: 12px;\n",
              "    }\n",
              "\n",
              "    .colab-df-convert {\n",
              "      background-color: #E8F0FE;\n",
              "      border: none;\n",
              "      border-radius: 50%;\n",
              "      cursor: pointer;\n",
              "      display: none;\n",
              "      fill: #1967D2;\n",
              "      height: 32px;\n",
              "      padding: 0 0 0 0;\n",
              "      width: 32px;\n",
              "    }\n",
              "\n",
              "    .colab-df-convert:hover {\n",
              "      background-color: #E2EBFA;\n",
              "      box-shadow: 0px 1px 2px rgba(60, 64, 67, 0.3), 0px 1px 3px 1px rgba(60, 64, 67, 0.15);\n",
              "      fill: #174EA6;\n",
              "    }\n",
              "\n",
              "    [theme=dark] .colab-df-convert {\n",
              "      background-color: #3B4455;\n",
              "      fill: #D2E3FC;\n",
              "    }\n",
              "\n",
              "    [theme=dark] .colab-df-convert:hover {\n",
              "      background-color: #434B5C;\n",
              "      box-shadow: 0px 1px 3px 1px rgba(0, 0, 0, 0.15);\n",
              "      filter: drop-shadow(0px 1px 2px rgba(0, 0, 0, 0.3));\n",
              "      fill: #FFFFFF;\n",
              "    }\n",
              "  </style>\n",
              "\n",
              "      <script>\n",
              "        const buttonEl =\n",
              "          document.querySelector('#df-9275dd57-608c-43fb-937f-c2eeaeb26164 button.colab-df-convert');\n",
              "        buttonEl.style.display =\n",
              "          google.colab.kernel.accessAllowed ? 'block' : 'none';\n",
              "\n",
              "        async function convertToInteractive(key) {\n",
              "          const element = document.querySelector('#df-9275dd57-608c-43fb-937f-c2eeaeb26164');\n",
              "          const dataTable =\n",
              "            await google.colab.kernel.invokeFunction('convertToInteractive',\n",
              "                                                     [key], {});\n",
              "          if (!dataTable) return;\n",
              "\n",
              "          const docLinkHtml = 'Like what you see? Visit the ' +\n",
              "            '<a target=\"_blank\" href=https://colab.research.google.com/notebooks/data_table.ipynb>data table notebook</a>'\n",
              "            + ' to learn more about interactive tables.';\n",
              "          element.innerHTML = '';\n",
              "          dataTable['output_type'] = 'display_data';\n",
              "          await google.colab.output.renderOutput(dataTable, element);\n",
              "          const docLink = document.createElement('div');\n",
              "          docLink.innerHTML = docLinkHtml;\n",
              "          element.appendChild(docLink);\n",
              "        }\n",
              "      </script>\n",
              "    </div>\n",
              "  </div>\n",
              "  "
            ]
          },
          "metadata": {},
          "execution_count": 78
        }
      ],
      "source": [
        "yes=yes[['eligibility score','age','year_emp','income','cred_debt','other_debt']]\n",
        "yes.head()"
      ]
    },
    {
      "cell_type": "code",
      "execution_count": null,
      "id": "4087ff6b",
      "metadata": {
        "colab": {
          "base_uri": "https://localhost:8080/",
          "height": 206
        },
        "id": "4087ff6b",
        "outputId": "c8d31cbd-1163-4ccc-c6d8-a4ce5142be88"
      },
      "outputs": [
        {
          "output_type": "execute_result",
          "data": {
            "text/plain": [
              "   eligibility score  age  year_emp  income  cred_debt  other_debt\n",
              "0                5.5   47        22      81       1.51        2.95\n",
              "1                3.6   40        22      95       0.63        2.79\n",
              "2                3.4   35        16      36       0.18        1.05\n",
              "3                0.4   43        16      89       0.16        0.20\n",
              "5               10.0   52        24      64       3.93        2.47"
            ],
            "text/html": [
              "\n",
              "  <div id=\"df-81453cf3-f43a-46bf-95f5-ae691f7191c8\">\n",
              "    <div class=\"colab-df-container\">\n",
              "      <div>\n",
              "<style scoped>\n",
              "    .dataframe tbody tr th:only-of-type {\n",
              "        vertical-align: middle;\n",
              "    }\n",
              "\n",
              "    .dataframe tbody tr th {\n",
              "        vertical-align: top;\n",
              "    }\n",
              "\n",
              "    .dataframe thead th {\n",
              "        text-align: right;\n",
              "    }\n",
              "</style>\n",
              "<table border=\"1\" class=\"dataframe\">\n",
              "  <thead>\n",
              "    <tr style=\"text-align: right;\">\n",
              "      <th></th>\n",
              "      <th>eligibility score</th>\n",
              "      <th>age</th>\n",
              "      <th>year_emp</th>\n",
              "      <th>income</th>\n",
              "      <th>cred_debt</th>\n",
              "      <th>other_debt</th>\n",
              "    </tr>\n",
              "  </thead>\n",
              "  <tbody>\n",
              "    <tr>\n",
              "      <th>0</th>\n",
              "      <td>5.5</td>\n",
              "      <td>47</td>\n",
              "      <td>22</td>\n",
              "      <td>81</td>\n",
              "      <td>1.51</td>\n",
              "      <td>2.95</td>\n",
              "    </tr>\n",
              "    <tr>\n",
              "      <th>1</th>\n",
              "      <td>3.6</td>\n",
              "      <td>40</td>\n",
              "      <td>22</td>\n",
              "      <td>95</td>\n",
              "      <td>0.63</td>\n",
              "      <td>2.79</td>\n",
              "    </tr>\n",
              "    <tr>\n",
              "      <th>2</th>\n",
              "      <td>3.4</td>\n",
              "      <td>35</td>\n",
              "      <td>16</td>\n",
              "      <td>36</td>\n",
              "      <td>0.18</td>\n",
              "      <td>1.05</td>\n",
              "    </tr>\n",
              "    <tr>\n",
              "      <th>3</th>\n",
              "      <td>0.4</td>\n",
              "      <td>43</td>\n",
              "      <td>16</td>\n",
              "      <td>89</td>\n",
              "      <td>0.16</td>\n",
              "      <td>0.20</td>\n",
              "    </tr>\n",
              "    <tr>\n",
              "      <th>5</th>\n",
              "      <td>10.0</td>\n",
              "      <td>52</td>\n",
              "      <td>24</td>\n",
              "      <td>64</td>\n",
              "      <td>3.93</td>\n",
              "      <td>2.47</td>\n",
              "    </tr>\n",
              "  </tbody>\n",
              "</table>\n",
              "</div>\n",
              "      <button class=\"colab-df-convert\" onclick=\"convertToInteractive('df-81453cf3-f43a-46bf-95f5-ae691f7191c8')\"\n",
              "              title=\"Convert this dataframe to an interactive table.\"\n",
              "              style=\"display:none;\">\n",
              "        \n",
              "  <svg xmlns=\"http://www.w3.org/2000/svg\" height=\"24px\"viewBox=\"0 0 24 24\"\n",
              "       width=\"24px\">\n",
              "    <path d=\"M0 0h24v24H0V0z\" fill=\"none\"/>\n",
              "    <path d=\"M18.56 5.44l.94 2.06.94-2.06 2.06-.94-2.06-.94-.94-2.06-.94 2.06-2.06.94zm-11 1L8.5 8.5l.94-2.06 2.06-.94-2.06-.94L8.5 2.5l-.94 2.06-2.06.94zm10 10l.94 2.06.94-2.06 2.06-.94-2.06-.94-.94-2.06-.94 2.06-2.06.94z\"/><path d=\"M17.41 7.96l-1.37-1.37c-.4-.4-.92-.59-1.43-.59-.52 0-1.04.2-1.43.59L10.3 9.45l-7.72 7.72c-.78.78-.78 2.05 0 2.83L4 21.41c.39.39.9.59 1.41.59.51 0 1.02-.2 1.41-.59l7.78-7.78 2.81-2.81c.8-.78.8-2.07 0-2.86zM5.41 20L4 18.59l7.72-7.72 1.47 1.35L5.41 20z\"/>\n",
              "  </svg>\n",
              "      </button>\n",
              "      \n",
              "  <style>\n",
              "    .colab-df-container {\n",
              "      display:flex;\n",
              "      flex-wrap:wrap;\n",
              "      gap: 12px;\n",
              "    }\n",
              "\n",
              "    .colab-df-convert {\n",
              "      background-color: #E8F0FE;\n",
              "      border: none;\n",
              "      border-radius: 50%;\n",
              "      cursor: pointer;\n",
              "      display: none;\n",
              "      fill: #1967D2;\n",
              "      height: 32px;\n",
              "      padding: 0 0 0 0;\n",
              "      width: 32px;\n",
              "    }\n",
              "\n",
              "    .colab-df-convert:hover {\n",
              "      background-color: #E2EBFA;\n",
              "      box-shadow: 0px 1px 2px rgba(60, 64, 67, 0.3), 0px 1px 3px 1px rgba(60, 64, 67, 0.15);\n",
              "      fill: #174EA6;\n",
              "    }\n",
              "\n",
              "    [theme=dark] .colab-df-convert {\n",
              "      background-color: #3B4455;\n",
              "      fill: #D2E3FC;\n",
              "    }\n",
              "\n",
              "    [theme=dark] .colab-df-convert:hover {\n",
              "      background-color: #434B5C;\n",
              "      box-shadow: 0px 1px 3px 1px rgba(0, 0, 0, 0.15);\n",
              "      filter: drop-shadow(0px 1px 2px rgba(0, 0, 0, 0.3));\n",
              "      fill: #FFFFFF;\n",
              "    }\n",
              "  </style>\n",
              "\n",
              "      <script>\n",
              "        const buttonEl =\n",
              "          document.querySelector('#df-81453cf3-f43a-46bf-95f5-ae691f7191c8 button.colab-df-convert');\n",
              "        buttonEl.style.display =\n",
              "          google.colab.kernel.accessAllowed ? 'block' : 'none';\n",
              "\n",
              "        async function convertToInteractive(key) {\n",
              "          const element = document.querySelector('#df-81453cf3-f43a-46bf-95f5-ae691f7191c8');\n",
              "          const dataTable =\n",
              "            await google.colab.kernel.invokeFunction('convertToInteractive',\n",
              "                                                     [key], {});\n",
              "          if (!dataTable) return;\n",
              "\n",
              "          const docLinkHtml = 'Like what you see? Visit the ' +\n",
              "            '<a target=\"_blank\" href=https://colab.research.google.com/notebooks/data_table.ipynb>data table notebook</a>'\n",
              "            + ' to learn more about interactive tables.';\n",
              "          element.innerHTML = '';\n",
              "          dataTable['output_type'] = 'display_data';\n",
              "          await google.colab.output.renderOutput(dataTable, element);\n",
              "          const docLink = document.createElement('div');\n",
              "          docLink.innerHTML = docLinkHtml;\n",
              "          element.appendChild(docLink);\n",
              "        }\n",
              "      </script>\n",
              "    </div>\n",
              "  </div>\n",
              "  "
            ]
          },
          "metadata": {},
          "execution_count": 79
        }
      ],
      "source": [
        "no=no[['eligibility score','age','year_emp','income','cred_debt','other_debt']]\n",
        "no.head()"
      ]
    },
    {
      "cell_type": "code",
      "execution_count": null,
      "id": "57a971c8",
      "metadata": {
        "id": "57a971c8"
      },
      "outputs": [],
      "source": [
        "#yes\n",
        "X=yes.drop('eligibility score',axis=1)\n",
        "y=yes['eligibility score']"
      ]
    },
    {
      "cell_type": "code",
      "execution_count": null,
      "id": "14f4f3fb",
      "metadata": {
        "colab": {
          "base_uri": "https://localhost:8080/"
        },
        "id": "14f4f3fb",
        "outputId": "7250ca52-8fe9-4fd7-a496-968cf4fa5718"
      },
      "outputs": [
        {
          "output_type": "stream",
          "name": "stderr",
          "text": [
            "/usr/local/lib/python3.8/dist-packages/statsmodels/tsa/tsatools.py:142: FutureWarning: In a future version of pandas all arguments of concat except for the argument 'objs' will be keyword-only\n",
            "  x = pd.concat(x[::order], 1)\n",
            "<ipython-input-81-a5238be1da57>:2: UserWarning: Pandas doesn't allow columns to be created via a new attribute name - see https://pandas.pydata.org/pandas-docs/stable/indexing.html#attribute-access\n",
            "  X.exog = sm.add_constant(X, prepend=True)\n"
          ]
        }
      ],
      "source": [
        "import statsmodels.api as sm\n",
        "X.exog = sm.add_constant(X, prepend=True)\n",
        "mod = sm.OLS(y,X.exog)"
      ]
    },
    {
      "cell_type": "code",
      "execution_count": null,
      "id": "eaf67635",
      "metadata": {
        "id": "eaf67635"
      },
      "outputs": [],
      "source": [
        "res = mod.fit()"
      ]
    },
    {
      "cell_type": "code",
      "execution_count": null,
      "id": "c3a9ee3b",
      "metadata": {
        "colab": {
          "base_uri": "https://localhost:8080/"
        },
        "id": "c3a9ee3b",
        "outputId": "e690f8a5-1396-4f81-e17c-c8e5459e656a"
      },
      "outputs": [
        {
          "output_type": "stream",
          "name": "stdout",
          "text": [
            "                            OLS Regression Results                            \n",
            "==============================================================================\n",
            "Dep. Variable:      eligibility score   R-squared:                       0.848\n",
            "Model:                            OLS   Adj. R-squared:                  0.829\n",
            "Method:                 Least Squares   F-statistic:                     46.73\n",
            "Date:                Mon, 06 Feb 2023   Prob (F-statistic):           4.32e-16\n",
            "Time:                        11:57:31   Log-Likelihood:                -111.60\n",
            "No. Observations:                  48   AIC:                             235.2\n",
            "Df Residuals:                      42   BIC:                             246.4\n",
            "Df Model:                           5                                         \n",
            "Covariance Type:            nonrobust                                         \n",
            "==============================================================================\n",
            "                 coef    std err          t      P>|t|      [0.025      0.975]\n",
            "------------------------------------------------------------------------------\n",
            "const         15.6561      1.847      8.475      0.000      11.928      19.384\n",
            "age           -0.0345      0.062     -0.560      0.578      -0.159       0.090\n",
            "year_emp      -0.0302      0.086     -0.353      0.726      -0.203       0.142\n",
            "income        -0.2326      0.031     -7.458      0.000      -0.296      -0.170\n",
            "cred_debt      1.2656      0.207      6.129      0.000       0.849       1.682\n",
            "other_debt     1.9614      0.241      8.153      0.000       1.476       2.447\n",
            "==============================================================================\n",
            "Omnibus:                       19.252   Durbin-Watson:                   1.889\n",
            "Prob(Omnibus):                  0.000   Jarque-Bera (JB):               26.744\n",
            "Skew:                           1.339   Prob(JB):                     1.56e-06\n",
            "Kurtosis:                       5.491   Cond. No.                         297.\n",
            "==============================================================================\n",
            "\n",
            "Notes:\n",
            "[1] Standard Errors assume that the covariance matrix of the errors is correctly specified.\n"
          ]
        }
      ],
      "source": [
        "print(res.summary())"
      ]
    },
    {
      "cell_type": "code",
      "execution_count": null,
      "id": "cc5ac1c4",
      "metadata": {
        "id": "cc5ac1c4"
      },
      "outputs": [],
      "source": [
        "# y1=-0.2326*income+1.2656*cred_det+1.96*other_debt+15.6561"
      ]
    },
    {
      "cell_type": "code",
      "execution_count": null,
      "id": "944ca67c",
      "metadata": {
        "id": "944ca67c"
      },
      "outputs": [],
      "source": [
        "#no\n",
        "X=no.drop('eligibility score',axis=1)\n",
        "y=no['eligibility score']"
      ]
    },
    {
      "cell_type": "code",
      "execution_count": null,
      "id": "743e0b22",
      "metadata": {
        "colab": {
          "base_uri": "https://localhost:8080/"
        },
        "id": "743e0b22",
        "outputId": "4bb7341f-16d3-4744-c432-5bb90108317e"
      },
      "outputs": [
        {
          "output_type": "stream",
          "name": "stderr",
          "text": [
            "/usr/local/lib/python3.8/dist-packages/statsmodels/tsa/tsatools.py:142: FutureWarning: In a future version of pandas all arguments of concat except for the argument 'objs' will be keyword-only\n",
            "  x = pd.concat(x[::order], 1)\n",
            "<ipython-input-86-9231c978ed08>:2: UserWarning: Pandas doesn't allow columns to be created via a new attribute name - see https://pandas.pydata.org/pandas-docs/stable/indexing.html#attribute-access\n",
            "  X.exog = sm.add_constant(X, prepend=False)\n"
          ]
        }
      ],
      "source": [
        "import statsmodels.api as sm\n",
        "X.exog = sm.add_constant(X, prepend=False)\n",
        "mod = sm.OLS(y,X.exog)"
      ]
    },
    {
      "cell_type": "code",
      "execution_count": null,
      "id": "8829b242",
      "metadata": {
        "id": "8829b242"
      },
      "outputs": [],
      "source": [
        "res = mod.fit()"
      ]
    },
    {
      "cell_type": "code",
      "execution_count": null,
      "id": "6f29aab3",
      "metadata": {
        "colab": {
          "base_uri": "https://localhost:8080/"
        },
        "id": "6f29aab3",
        "outputId": "ffb03f23-e026-4b00-8962-ea8a9840f2cc"
      },
      "outputs": [
        {
          "output_type": "stream",
          "name": "stdout",
          "text": [
            "                            OLS Regression Results                            \n",
            "==============================================================================\n",
            "Dep. Variable:      eligibility score   R-squared:                       0.675\n",
            "Model:                            OLS   Adj. R-squared:                  0.639\n",
            "Method:                 Least Squares   F-statistic:                     19.07\n",
            "Date:                Mon, 06 Feb 2023   Prob (F-statistic):           3.13e-10\n",
            "Time:                        11:57:31   Log-Likelihood:                -98.657\n",
            "No. Observations:                  52   AIC:                             209.3\n",
            "Df Residuals:                      46   BIC:                             221.0\n",
            "Df Model:                           5                                         \n",
            "Covariance Type:            nonrobust                                         \n",
            "==============================================================================\n",
            "                 coef    std err          t      P>|t|      [0.025      0.975]\n",
            "------------------------------------------------------------------------------\n",
            "age           -0.0624      0.038     -1.639      0.108      -0.139       0.014\n",
            "year_emp       0.0396      0.055      0.726      0.472      -0.070       0.149\n",
            "income        -0.0866      0.016     -5.484      0.000      -0.118      -0.055\n",
            "cred_debt      1.1121      0.208      5.356      0.000       0.694       1.530\n",
            "other_debt     1.7597      0.231      7.616      0.000       1.295       2.225\n",
            "const          7.5387      1.075      7.010      0.000       5.374       9.704\n",
            "==============================================================================\n",
            "Omnibus:                        1.083   Durbin-Watson:                   1.933\n",
            "Prob(Omnibus):                  0.582   Jarque-Bera (JB):                1.105\n",
            "Skew:                          -0.316   Prob(JB):                        0.575\n",
            "Kurtosis:                       2.667   Cond. No.                         297.\n",
            "==============================================================================\n",
            "\n",
            "Notes:\n",
            "[1] Standard Errors assume that the covariance matrix of the errors is correctly specified.\n"
          ]
        }
      ],
      "source": [
        "print(res.summary())"
      ]
    },
    {
      "cell_type": "code",
      "execution_count": null,
      "id": "1f4cd270",
      "metadata": {
        "id": "1f4cd270"
      },
      "outputs": [],
      "source": [
        "# y2=-0.0866*income+1.1121*cred_debt+1.7597*other_debt+7.5387"
      ]
    },
    {
      "cell_type": "code",
      "execution_count": null,
      "id": "494bbb5e",
      "metadata": {
        "colab": {
          "base_uri": "https://localhost:8080/",
          "height": 80
        },
        "id": "494bbb5e",
        "outputId": "0fdfe6b0-e4f3-4e46-cbd4-16bb0893c0b1"
      },
      "outputs": [
        {
          "output_type": "execute_result",
          "data": {
            "text/plain": [
              "   age  year_emp  income  credit_debt  other_debt\n",
              "0   55        11      77          2.5           3"
            ],
            "text/html": [
              "\n",
              "  <div id=\"df-58584807-86e0-4524-9004-1b7243a30d21\">\n",
              "    <div class=\"colab-df-container\">\n",
              "      <div>\n",
              "<style scoped>\n",
              "    .dataframe tbody tr th:only-of-type {\n",
              "        vertical-align: middle;\n",
              "    }\n",
              "\n",
              "    .dataframe tbody tr th {\n",
              "        vertical-align: top;\n",
              "    }\n",
              "\n",
              "    .dataframe thead th {\n",
              "        text-align: right;\n",
              "    }\n",
              "</style>\n",
              "<table border=\"1\" class=\"dataframe\">\n",
              "  <thead>\n",
              "    <tr style=\"text-align: right;\">\n",
              "      <th></th>\n",
              "      <th>age</th>\n",
              "      <th>year_emp</th>\n",
              "      <th>income</th>\n",
              "      <th>credit_debt</th>\n",
              "      <th>other_debt</th>\n",
              "    </tr>\n",
              "  </thead>\n",
              "  <tbody>\n",
              "    <tr>\n",
              "      <th>0</th>\n",
              "      <td>55</td>\n",
              "      <td>11</td>\n",
              "      <td>77</td>\n",
              "      <td>2.5</td>\n",
              "      <td>3</td>\n",
              "    </tr>\n",
              "  </tbody>\n",
              "</table>\n",
              "</div>\n",
              "      <button class=\"colab-df-convert\" onclick=\"convertToInteractive('df-58584807-86e0-4524-9004-1b7243a30d21')\"\n",
              "              title=\"Convert this dataframe to an interactive table.\"\n",
              "              style=\"display:none;\">\n",
              "        \n",
              "  <svg xmlns=\"http://www.w3.org/2000/svg\" height=\"24px\"viewBox=\"0 0 24 24\"\n",
              "       width=\"24px\">\n",
              "    <path d=\"M0 0h24v24H0V0z\" fill=\"none\"/>\n",
              "    <path d=\"M18.56 5.44l.94 2.06.94-2.06 2.06-.94-2.06-.94-.94-2.06-.94 2.06-2.06.94zm-11 1L8.5 8.5l.94-2.06 2.06-.94-2.06-.94L8.5 2.5l-.94 2.06-2.06.94zm10 10l.94 2.06.94-2.06 2.06-.94-2.06-.94-.94-2.06-.94 2.06-2.06.94z\"/><path d=\"M17.41 7.96l-1.37-1.37c-.4-.4-.92-.59-1.43-.59-.52 0-1.04.2-1.43.59L10.3 9.45l-7.72 7.72c-.78.78-.78 2.05 0 2.83L4 21.41c.39.39.9.59 1.41.59.51 0 1.02-.2 1.41-.59l7.78-7.78 2.81-2.81c.8-.78.8-2.07 0-2.86zM5.41 20L4 18.59l7.72-7.72 1.47 1.35L5.41 20z\"/>\n",
              "  </svg>\n",
              "      </button>\n",
              "      \n",
              "  <style>\n",
              "    .colab-df-container {\n",
              "      display:flex;\n",
              "      flex-wrap:wrap;\n",
              "      gap: 12px;\n",
              "    }\n",
              "\n",
              "    .colab-df-convert {\n",
              "      background-color: #E8F0FE;\n",
              "      border: none;\n",
              "      border-radius: 50%;\n",
              "      cursor: pointer;\n",
              "      display: none;\n",
              "      fill: #1967D2;\n",
              "      height: 32px;\n",
              "      padding: 0 0 0 0;\n",
              "      width: 32px;\n",
              "    }\n",
              "\n",
              "    .colab-df-convert:hover {\n",
              "      background-color: #E2EBFA;\n",
              "      box-shadow: 0px 1px 2px rgba(60, 64, 67, 0.3), 0px 1px 3px 1px rgba(60, 64, 67, 0.15);\n",
              "      fill: #174EA6;\n",
              "    }\n",
              "\n",
              "    [theme=dark] .colab-df-convert {\n",
              "      background-color: #3B4455;\n",
              "      fill: #D2E3FC;\n",
              "    }\n",
              "\n",
              "    [theme=dark] .colab-df-convert:hover {\n",
              "      background-color: #434B5C;\n",
              "      box-shadow: 0px 1px 3px 1px rgba(0, 0, 0, 0.15);\n",
              "      filter: drop-shadow(0px 1px 2px rgba(0, 0, 0, 0.3));\n",
              "      fill: #FFFFFF;\n",
              "    }\n",
              "  </style>\n",
              "\n",
              "      <script>\n",
              "        const buttonEl =\n",
              "          document.querySelector('#df-58584807-86e0-4524-9004-1b7243a30d21 button.colab-df-convert');\n",
              "        buttonEl.style.display =\n",
              "          google.colab.kernel.accessAllowed ? 'block' : 'none';\n",
              "\n",
              "        async function convertToInteractive(key) {\n",
              "          const element = document.querySelector('#df-58584807-86e0-4524-9004-1b7243a30d21');\n",
              "          const dataTable =\n",
              "            await google.colab.kernel.invokeFunction('convertToInteractive',\n",
              "                                                     [key], {});\n",
              "          if (!dataTable) return;\n",
              "\n",
              "          const docLinkHtml = 'Like what you see? Visit the ' +\n",
              "            '<a target=\"_blank\" href=https://colab.research.google.com/notebooks/data_table.ipynb>data table notebook</a>'\n",
              "            + ' to learn more about interactive tables.';\n",
              "          element.innerHTML = '';\n",
              "          dataTable['output_type'] = 'display_data';\n",
              "          await google.colab.output.renderOutput(dataTable, element);\n",
              "          const docLink = document.createElement('div');\n",
              "          docLink.innerHTML = docLinkHtml;\n",
              "          element.appendChild(docLink);\n",
              "        }\n",
              "      </script>\n",
              "    </div>\n",
              "  </div>\n",
              "  "
            ]
          },
          "metadata": {},
          "execution_count": 90
        }
      ],
      "source": [
        "inp1"
      ]
    },
    {
      "cell_type": "code",
      "execution_count": null,
      "id": "959388cc",
      "metadata": {
        "colab": {
          "base_uri": "https://localhost:8080/",
          "height": 166
        },
        "id": "959388cc",
        "outputId": "d682d92f-1714-4315-de50-3763cd86a601"
      },
      "outputs": [
        {
          "output_type": "error",
          "ename": "NameError",
          "evalue": "ignored",
          "traceback": [
            "\u001b[0;31m---------------------------------------------------------------------------\u001b[0m",
            "\u001b[0;31mNameError\u001b[0m                                 Traceback (most recent call last)",
            "\u001b[0;32m<ipython-input-91-42b928fa9c98>\u001b[0m in \u001b[0;36m<module>\u001b[0;34m\u001b[0m\n\u001b[0;32m----> 1\u001b[0;31m \u001b[0my1\u001b[0m\u001b[0;34m=\u001b[0m\u001b[0;34m-\u001b[0m\u001b[0;36m0.2326\u001b[0m\u001b[0;34m*\u001b[0m\u001b[0mincome\u001b[0m\u001b[0;34m+\u001b[0m\u001b[0;36m1.2656\u001b[0m\u001b[0;34m*\u001b[0m\u001b[0mcred_det\u001b[0m\u001b[0;34m+\u001b[0m\u001b[0;36m1.96\u001b[0m\u001b[0;34m*\u001b[0m\u001b[0mother_debt\u001b[0m\u001b[0;34m+\u001b[0m\u001b[0;36m15.6561\u001b[0m\u001b[0;34m\u001b[0m\u001b[0;34m\u001b[0m\u001b[0m\n\u001b[0m",
            "\u001b[0;31mNameError\u001b[0m: name 'income' is not defined"
          ]
        }
      ],
      "source": [
        "y1=-0.2326*income+1.2656*cred_det+1.96*other_debt+15.6561"
      ]
    },
    {
      "cell_type": "code",
      "execution_count": null,
      "id": "df492ceb",
      "metadata": {
        "id": "df492ceb"
      },
      "outputs": [],
      "source": [
        "y_yes=-0.2326*inp1['income']+1.2656*inp1['credit_debt']+1.96*inp1['other_debt']+15.65"
      ]
    },
    {
      "cell_type": "code",
      "execution_count": null,
      "id": "3b6a7544",
      "metadata": {
        "id": "3b6a7544"
      },
      "outputs": [],
      "source": [
        "y_yes"
      ]
    },
    {
      "cell_type": "code",
      "execution_count": null,
      "id": "a81397d5",
      "metadata": {
        "id": "a81397d5"
      },
      "outputs": [],
      "source": [
        "y_no=-0.0866*inp1['income']+1.1121*inp1['credit_debt']+1.7597*inp1['other_debt']+7.5387"
      ]
    },
    {
      "cell_type": "code",
      "execution_count": null,
      "id": "59179e65",
      "metadata": {
        "id": "59179e65"
      },
      "outputs": [],
      "source": [
        "y_no"
      ]
    },
    {
      "cell_type": "code",
      "execution_count": null,
      "id": "b2c03683",
      "metadata": {
        "id": "b2c03683"
      },
      "outputs": [],
      "source": [
        "if y_yes[0]> y_no[0]:\n",
        "    print(\"The input data point belongs to no cat.\")\n",
        "else:\n",
        "    print(\"The input data point belongs to yes cat.\")"
      ]
    },
    {
      "cell_type": "code",
      "execution_count": null,
      "id": "6f508d80",
      "metadata": {
        "id": "6f508d80"
      },
      "outputs": [],
      "source": []
    }
  ],
  "metadata": {
    "kernelspec": {
      "display_name": "Python 3 (ipykernel)",
      "language": "python",
      "name": "python3"
    },
    "language_info": {
      "codemirror_mode": {
        "name": "ipython",
        "version": 3
      },
      "file_extension": ".py",
      "mimetype": "text/x-python",
      "name": "python",
      "nbconvert_exporter": "python",
      "pygments_lexer": "ipython3",
      "version": "3.9.12"
    },
    "colab": {
      "provenance": []
    }
  },
  "nbformat": 4,
  "nbformat_minor": 5
}