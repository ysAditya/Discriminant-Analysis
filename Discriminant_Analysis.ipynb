{
  "cells": [
    {
      "cell_type": "code",
      "execution_count": null,
      "id": "44a61354",
      "metadata": {
        "id": "44a61354"
      },
      "outputs": [],
      "source": [
        "import pandas as pd\n",
        "import numpy as np"
      ]
    },
    {
      "cell_type": "code",
      "execution_count": null,
      "id": "304d7282",
      "metadata": {
        "id": "304d7282"
      },
      "outputs": [],
      "source": [
        "data = pd.read_excel(\"data for discriminanat analysis.xlsx\",sheet_name= \"Sheet2\")"
      ]
    },
    {
      "cell_type": "code",
      "execution_count": null,
      "id": "71c47e89",
      "metadata": {
        "id": "71c47e89",
        "outputId": "fb1656d9-afff-4005-8047-15a45ad8feab"
      },
      "outputs": [
        {
          "data": {
            "text/html": [
              "<div>\n",
              "<style scoped>\n",
              "    .dataframe tbody tr th:only-of-type {\n",
              "        vertical-align: middle;\n",
              "    }\n",
              "\n",
              "    .dataframe tbody tr th {\n",
              "        vertical-align: top;\n",
              "    }\n",
              "\n",
              "    .dataframe thead th {\n",
              "        text-align: right;\n",
              "    }\n",
              "</style>\n",
              "<table border=\"1\" class=\"dataframe\">\n",
              "  <thead>\n",
              "    <tr style=\"text-align: right;\">\n",
              "      <th></th>\n",
              "      <th>eligibility score</th>\n",
              "      <th>age</th>\n",
              "      <th>year_emp</th>\n",
              "      <th>income</th>\n",
              "      <th>cred_debt</th>\n",
              "      <th>other_debt</th>\n",
              "    </tr>\n",
              "  </thead>\n",
              "  <tbody>\n",
              "    <tr>\n",
              "      <th>0</th>\n",
              "      <td>5.5</td>\n",
              "      <td>47</td>\n",
              "      <td>22</td>\n",
              "      <td>81</td>\n",
              "      <td>1.51</td>\n",
              "      <td>2.95</td>\n",
              "    </tr>\n",
              "    <tr>\n",
              "      <th>1</th>\n",
              "      <td>3.6</td>\n",
              "      <td>40</td>\n",
              "      <td>22</td>\n",
              "      <td>95</td>\n",
              "      <td>0.63</td>\n",
              "      <td>2.79</td>\n",
              "    </tr>\n",
              "    <tr>\n",
              "      <th>2</th>\n",
              "      <td>3.4</td>\n",
              "      <td>35</td>\n",
              "      <td>16</td>\n",
              "      <td>36</td>\n",
              "      <td>0.18</td>\n",
              "      <td>1.05</td>\n",
              "    </tr>\n",
              "    <tr>\n",
              "      <th>3</th>\n",
              "      <td>0.4</td>\n",
              "      <td>43</td>\n",
              "      <td>16</td>\n",
              "      <td>89</td>\n",
              "      <td>0.16</td>\n",
              "      <td>0.20</td>\n",
              "    </tr>\n",
              "    <tr>\n",
              "      <th>4</th>\n",
              "      <td>12.8</td>\n",
              "      <td>47</td>\n",
              "      <td>26</td>\n",
              "      <td>100</td>\n",
              "      <td>4.58</td>\n",
              "      <td>8.22</td>\n",
              "    </tr>\n",
              "  </tbody>\n",
              "</table>\n",
              "</div>"
            ],
            "text/plain": [
              "   eligibility score  age  year_emp  income  cred_debt  other_debt\n",
              "0                5.5   47        22      81       1.51        2.95\n",
              "1                3.6   40        22      95       0.63        2.79\n",
              "2                3.4   35        16      36       0.18        1.05\n",
              "3                0.4   43        16      89       0.16        0.20\n",
              "4               12.8   47        26     100       4.58        8.22"
            ]
          },
          "execution_count": 3,
          "metadata": {},
          "output_type": "execute_result"
        }
      ],
      "source": [
        "data.head()"
      ]
    },
    {
      "cell_type": "code",
      "execution_count": null,
      "id": "9683391d",
      "metadata": {
        "id": "9683391d"
      },
      "outputs": [],
      "source": [
        "data['Target_Variable'] = np.where(data['eligibility score'] < 10, 'No', 'Yes')"
      ]
    },
    {
      "cell_type": "code",
      "execution_count": null,
      "id": "15308379",
      "metadata": {
        "id": "15308379",
        "outputId": "6117b3cf-fd47-45a8-bed6-f1f15bd0583d"
      },
      "outputs": [
        {
          "data": {
            "text/html": [
              "<div>\n",
              "<style scoped>\n",
              "    .dataframe tbody tr th:only-of-type {\n",
              "        vertical-align: middle;\n",
              "    }\n",
              "\n",
              "    .dataframe tbody tr th {\n",
              "        vertical-align: top;\n",
              "    }\n",
              "\n",
              "    .dataframe thead th {\n",
              "        text-align: right;\n",
              "    }\n",
              "</style>\n",
              "<table border=\"1\" class=\"dataframe\">\n",
              "  <thead>\n",
              "    <tr style=\"text-align: right;\">\n",
              "      <th></th>\n",
              "      <th>eligibility score</th>\n",
              "      <th>age</th>\n",
              "      <th>year_emp</th>\n",
              "      <th>income</th>\n",
              "      <th>cred_debt</th>\n",
              "      <th>other_debt</th>\n",
              "      <th>Target_Variable</th>\n",
              "    </tr>\n",
              "  </thead>\n",
              "  <tbody>\n",
              "    <tr>\n",
              "      <th>0</th>\n",
              "      <td>5.5</td>\n",
              "      <td>47</td>\n",
              "      <td>22</td>\n",
              "      <td>81</td>\n",
              "      <td>1.51</td>\n",
              "      <td>2.95</td>\n",
              "      <td>No</td>\n",
              "    </tr>\n",
              "    <tr>\n",
              "      <th>1</th>\n",
              "      <td>3.6</td>\n",
              "      <td>40</td>\n",
              "      <td>22</td>\n",
              "      <td>95</td>\n",
              "      <td>0.63</td>\n",
              "      <td>2.79</td>\n",
              "      <td>No</td>\n",
              "    </tr>\n",
              "    <tr>\n",
              "      <th>2</th>\n",
              "      <td>3.4</td>\n",
              "      <td>35</td>\n",
              "      <td>16</td>\n",
              "      <td>36</td>\n",
              "      <td>0.18</td>\n",
              "      <td>1.05</td>\n",
              "      <td>No</td>\n",
              "    </tr>\n",
              "    <tr>\n",
              "      <th>3</th>\n",
              "      <td>0.4</td>\n",
              "      <td>43</td>\n",
              "      <td>16</td>\n",
              "      <td>89</td>\n",
              "      <td>0.16</td>\n",
              "      <td>0.20</td>\n",
              "      <td>No</td>\n",
              "    </tr>\n",
              "    <tr>\n",
              "      <th>4</th>\n",
              "      <td>12.8</td>\n",
              "      <td>47</td>\n",
              "      <td>26</td>\n",
              "      <td>100</td>\n",
              "      <td>4.58</td>\n",
              "      <td>8.22</td>\n",
              "      <td>Yes</td>\n",
              "    </tr>\n",
              "  </tbody>\n",
              "</table>\n",
              "</div>"
            ],
            "text/plain": [
              "   eligibility score  age  year_emp  income  cred_debt  other_debt  \\\n",
              "0                5.5   47        22      81       1.51        2.95   \n",
              "1                3.6   40        22      95       0.63        2.79   \n",
              "2                3.4   35        16      36       0.18        1.05   \n",
              "3                0.4   43        16      89       0.16        0.20   \n",
              "4               12.8   47        26     100       4.58        8.22   \n",
              "\n",
              "  Target_Variable  \n",
              "0              No  \n",
              "1              No  \n",
              "2              No  \n",
              "3              No  \n",
              "4             Yes  "
            ]
          },
          "execution_count": 5,
          "metadata": {},
          "output_type": "execute_result"
        }
      ],
      "source": [
        "data.head()"
      ]
    },
    {
      "cell_type": "code",
      "execution_count": null,
      "id": "d8c1e8bc",
      "metadata": {
        "id": "d8c1e8bc"
      },
      "outputs": [],
      "source": [
        "data_no = data[data[\"eligibility score\"]<10]"
      ]
    },
    {
      "cell_type": "code",
      "execution_count": null,
      "id": "0ab666d2",
      "metadata": {
        "id": "0ab666d2",
        "outputId": "6747cbf4-c6c0-4986-a1d4-263941e47101"
      },
      "outputs": [
        {
          "data": {
            "text/html": [
              "<div>\n",
              "<style scoped>\n",
              "    .dataframe tbody tr th:only-of-type {\n",
              "        vertical-align: middle;\n",
              "    }\n",
              "\n",
              "    .dataframe tbody tr th {\n",
              "        vertical-align: top;\n",
              "    }\n",
              "\n",
              "    .dataframe thead th {\n",
              "        text-align: right;\n",
              "    }\n",
              "</style>\n",
              "<table border=\"1\" class=\"dataframe\">\n",
              "  <thead>\n",
              "    <tr style=\"text-align: right;\">\n",
              "      <th></th>\n",
              "      <th>eligibility score</th>\n",
              "      <th>age</th>\n",
              "      <th>year_emp</th>\n",
              "      <th>income</th>\n",
              "      <th>cred_debt</th>\n",
              "      <th>other_debt</th>\n",
              "      <th>Target_Variable</th>\n",
              "    </tr>\n",
              "  </thead>\n",
              "  <tbody>\n",
              "    <tr>\n",
              "      <th>0</th>\n",
              "      <td>5.5</td>\n",
              "      <td>47</td>\n",
              "      <td>22</td>\n",
              "      <td>81</td>\n",
              "      <td>1.51</td>\n",
              "      <td>2.95</td>\n",
              "      <td>No</td>\n",
              "    </tr>\n",
              "    <tr>\n",
              "      <th>1</th>\n",
              "      <td>3.6</td>\n",
              "      <td>40</td>\n",
              "      <td>22</td>\n",
              "      <td>95</td>\n",
              "      <td>0.63</td>\n",
              "      <td>2.79</td>\n",
              "      <td>No</td>\n",
              "    </tr>\n",
              "    <tr>\n",
              "      <th>2</th>\n",
              "      <td>3.4</td>\n",
              "      <td>35</td>\n",
              "      <td>16</td>\n",
              "      <td>36</td>\n",
              "      <td>0.18</td>\n",
              "      <td>1.05</td>\n",
              "      <td>No</td>\n",
              "    </tr>\n",
              "    <tr>\n",
              "      <th>3</th>\n",
              "      <td>0.4</td>\n",
              "      <td>43</td>\n",
              "      <td>16</td>\n",
              "      <td>89</td>\n",
              "      <td>0.16</td>\n",
              "      <td>0.20</td>\n",
              "      <td>No</td>\n",
              "    </tr>\n",
              "    <tr>\n",
              "      <th>6</th>\n",
              "      <td>4.5</td>\n",
              "      <td>35</td>\n",
              "      <td>13</td>\n",
              "      <td>35</td>\n",
              "      <td>0.43</td>\n",
              "      <td>1.14</td>\n",
              "      <td>No</td>\n",
              "    </tr>\n",
              "  </tbody>\n",
              "</table>\n",
              "</div>"
            ],
            "text/plain": [
              "   eligibility score  age  year_emp  income  cred_debt  other_debt  \\\n",
              "0                5.5   47        22      81       1.51        2.95   \n",
              "1                3.6   40        22      95       0.63        2.79   \n",
              "2                3.4   35        16      36       0.18        1.05   \n",
              "3                0.4   43        16      89       0.16        0.20   \n",
              "6                4.5   35        13      35       0.43        1.14   \n",
              "\n",
              "  Target_Variable  \n",
              "0              No  \n",
              "1              No  \n",
              "2              No  \n",
              "3              No  \n",
              "6              No  "
            ]
          },
          "execution_count": 7,
          "metadata": {},
          "output_type": "execute_result"
        }
      ],
      "source": [
        "data_no.head()"
      ]
    },
    {
      "cell_type": "code",
      "execution_count": null,
      "id": "d2876489",
      "metadata": {
        "id": "d2876489"
      },
      "outputs": [],
      "source": [
        "data_yes = data[data[\"eligibility score\"]>10]"
      ]
    },
    {
      "cell_type": "code",
      "execution_count": null,
      "id": "db0c9926",
      "metadata": {
        "id": "db0c9926",
        "outputId": "a54b2d40-eacf-4cb5-9b68-31bf4c4073a5"
      },
      "outputs": [
        {
          "data": {
            "text/html": [
              "<div>\n",
              "<style scoped>\n",
              "    .dataframe tbody tr th:only-of-type {\n",
              "        vertical-align: middle;\n",
              "    }\n",
              "\n",
              "    .dataframe tbody tr th {\n",
              "        vertical-align: top;\n",
              "    }\n",
              "\n",
              "    .dataframe thead th {\n",
              "        text-align: right;\n",
              "    }\n",
              "</style>\n",
              "<table border=\"1\" class=\"dataframe\">\n",
              "  <thead>\n",
              "    <tr style=\"text-align: right;\">\n",
              "      <th></th>\n",
              "      <th>eligibility score</th>\n",
              "      <th>age</th>\n",
              "      <th>year_emp</th>\n",
              "      <th>income</th>\n",
              "      <th>cred_debt</th>\n",
              "      <th>other_debt</th>\n",
              "      <th>Target_Variable</th>\n",
              "    </tr>\n",
              "  </thead>\n",
              "  <tbody>\n",
              "    <tr>\n",
              "      <th>4</th>\n",
              "      <td>12.8</td>\n",
              "      <td>47</td>\n",
              "      <td>26</td>\n",
              "      <td>100</td>\n",
              "      <td>4.58</td>\n",
              "      <td>8.22</td>\n",
              "      <td>Yes</td>\n",
              "    </tr>\n",
              "    <tr>\n",
              "      <th>7</th>\n",
              "      <td>10.9</td>\n",
              "      <td>36</td>\n",
              "      <td>16</td>\n",
              "      <td>32</td>\n",
              "      <td>0.54</td>\n",
              "      <td>2.94</td>\n",
              "      <td>Yes</td>\n",
              "    </tr>\n",
              "    <tr>\n",
              "      <th>8</th>\n",
              "      <td>15.8</td>\n",
              "      <td>49</td>\n",
              "      <td>14</td>\n",
              "      <td>63</td>\n",
              "      <td>0.94</td>\n",
              "      <td>9.02</td>\n",
              "      <td>Yes</td>\n",
              "    </tr>\n",
              "    <tr>\n",
              "      <th>13</th>\n",
              "      <td>12.0</td>\n",
              "      <td>48</td>\n",
              "      <td>17</td>\n",
              "      <td>113</td>\n",
              "      <td>3.38</td>\n",
              "      <td>10.18</td>\n",
              "      <td>Yes</td>\n",
              "    </tr>\n",
              "    <tr>\n",
              "      <th>20</th>\n",
              "      <td>16.5</td>\n",
              "      <td>38</td>\n",
              "      <td>21</td>\n",
              "      <td>58</td>\n",
              "      <td>4.58</td>\n",
              "      <td>4.99</td>\n",
              "      <td>Yes</td>\n",
              "    </tr>\n",
              "  </tbody>\n",
              "</table>\n",
              "</div>"
            ],
            "text/plain": [
              "    eligibility score  age  year_emp  income  cred_debt  other_debt  \\\n",
              "4                12.8   47        26     100       4.58        8.22   \n",
              "7                10.9   36        16      32       0.54        2.94   \n",
              "8                15.8   49        14      63       0.94        9.02   \n",
              "13               12.0   48        17     113       3.38       10.18   \n",
              "20               16.5   38        21      58       4.58        4.99   \n",
              "\n",
              "   Target_Variable  \n",
              "4              Yes  \n",
              "7              Yes  \n",
              "8              Yes  \n",
              "13             Yes  \n",
              "20             Yes  "
            ]
          },
          "execution_count": 9,
          "metadata": {},
          "output_type": "execute_result"
        }
      ],
      "source": [
        "data_yes.head()"
      ]
    },
    {
      "cell_type": "markdown",
      "id": "0f36fe0d",
      "metadata": {
        "id": "0f36fe0d"
      },
      "source": [
        "# 1st"
      ]
    },
    {
      "cell_type": "code",
      "execution_count": null,
      "id": "d8c5dcfe",
      "metadata": {
        "id": "d8c5dcfe",
        "outputId": "e7d09bdf-e75b-4df0-90a3-23f3e9e4321e"
      },
      "outputs": [
        {
          "name": "stdout",
          "output_type": "stream",
          "text": [
            "Yes\n"
          ]
        }
      ],
      "source": [
        "if ((abs(data_yes[\"age\"].mean()-55))<(abs(data_no[\"age\"].mean()-55))):\n",
        "   print(\"Yes\")\n",
        "else :\n",
        "   print(\"No\")"
      ]
    },
    {
      "cell_type": "markdown",
      "id": "14d78b02",
      "metadata": {
        "id": "14d78b02"
      },
      "source": [
        "# 2nd"
      ]
    },
    {
      "cell_type": "code",
      "execution_count": null,
      "id": "31ba89ca",
      "metadata": {
        "id": "31ba89ca"
      },
      "outputs": [],
      "source": [
        "df = data_yes.copy()"
      ]
    },
    {
      "cell_type": "code",
      "execution_count": null,
      "id": "a28399be",
      "metadata": {
        "id": "a28399be"
      },
      "outputs": [],
      "source": [
        "df.drop(\"eligibility score\", inplace = True, axis = 1)\n",
        "df.drop(\"Target_Variable\", inplace = True, axis = 1)"
      ]
    },
    {
      "cell_type": "code",
      "execution_count": null,
      "id": "d9de51cf",
      "metadata": {
        "id": "d9de51cf"
      },
      "outputs": [],
      "source": [
        "l = []\n",
        "for i in df.columns:\n",
        "    l.append(df[i].mean())"
      ]
    },
    {
      "cell_type": "code",
      "execution_count": null,
      "id": "9dbdb1f5",
      "metadata": {
        "id": "9dbdb1f5",
        "outputId": "e7def5fd-7c3f-430c-c5ae-c1cee329292e"
      },
      "outputs": [
        {
          "data": {
            "text/plain": [
              "[34.958333333333336,\n",
              " 8.791666666666666,\n",
              " 43.208333333333336,\n",
              " 2.9343750000000006,\n",
              " 4.343125]"
            ]
          },
          "execution_count": 14,
          "metadata": {},
          "output_type": "execute_result"
        }
      ],
      "source": [
        "l"
      ]
    },
    {
      "cell_type": "code",
      "execution_count": null,
      "id": "483235c4",
      "metadata": {
        "id": "483235c4"
      },
      "outputs": [],
      "source": [
        "k = [55,11,77,2.5,3]"
      ]
    },
    {
      "cell_type": "code",
      "execution_count": null,
      "id": "2a6a046d",
      "metadata": {
        "id": "2a6a046d",
        "outputId": "2dc8001d-028b-4e40-8a80-0405460d715a"
      },
      "outputs": [
        {
          "data": {
            "text/plain": [
              "[-20.041666666666664,\n",
              " -2.208333333333334,\n",
              " -33.791666666666664,\n",
              " 0.4343750000000006,\n",
              " 1.3431249999999997]"
            ]
          },
          "execution_count": 16,
          "metadata": {},
          "output_type": "execute_result"
        }
      ],
      "source": [
        "p =list(np.subtract(l,k))\n",
        "p"
      ]
    },
    {
      "cell_type": "code",
      "execution_count": null,
      "id": "32931cc2",
      "metadata": {
        "id": "32931cc2"
      },
      "outputs": [],
      "source": [
        "def square(list):\n",
        "    return [i ** 2 for i in list]"
      ]
    },
    {
      "cell_type": "code",
      "execution_count": null,
      "id": "e84b238b",
      "metadata": {
        "id": "e84b238b",
        "outputId": "3e48b2b8-178d-4eff-bb93-87cf8f788698"
      },
      "outputs": [
        {
          "data": {
            "text/plain": [
              "[401.66840277777766,\n",
              " 4.876736111111113,\n",
              " 1141.8767361111109,\n",
              " 0.18868164062500054,\n",
              " 1.8039847656249992]"
            ]
          },
          "execution_count": 18,
          "metadata": {},
          "output_type": "execute_result"
        }
      ],
      "source": [
        "square_value = square(p)\n",
        "square_value"
      ]
    },
    {
      "cell_type": "code",
      "execution_count": null,
      "id": "d1ad92bd",
      "metadata": {
        "id": "d1ad92bd"
      },
      "outputs": [],
      "source": [
        "total = 0\n",
        "for ele in range(0, len(square_value)):\n",
        "    total = total + square_value[ele]"
      ]
    },
    {
      "cell_type": "code",
      "execution_count": null,
      "id": "c52f66c0",
      "metadata": {
        "id": "c52f66c0",
        "outputId": "9b19b7a2-cd69-4511-e33b-83b7e798fd59"
      },
      "outputs": [
        {
          "data": {
            "text/plain": [
              "1550.4145414062496"
            ]
          },
          "execution_count": 20,
          "metadata": {},
          "output_type": "execute_result"
        }
      ],
      "source": [
        "total"
      ]
    },
    {
      "cell_type": "code",
      "execution_count": null,
      "id": "927f19ca",
      "metadata": {
        "id": "927f19ca"
      },
      "outputs": [],
      "source": [
        "from math import sqrt"
      ]
    },
    {
      "cell_type": "code",
      "execution_count": null,
      "id": "3a112942",
      "metadata": {
        "id": "3a112942",
        "outputId": "7e834799-f0db-451b-9c05-055b3d3df49e"
      },
      "outputs": [
        {
          "data": {
            "text/plain": [
              "39.375303699225604"
            ]
          },
          "execution_count": 22,
          "metadata": {},
          "output_type": "execute_result"
        }
      ],
      "source": [
        "yes_value = sqrt(total)\n",
        "yes_value"
      ]
    },
    {
      "cell_type": "code",
      "execution_count": null,
      "id": "80e4a235",
      "metadata": {
        "id": "80e4a235"
      },
      "outputs": [],
      "source": [
        "df1 = data_no.copy()"
      ]
    },
    {
      "cell_type": "code",
      "execution_count": null,
      "id": "cd1ed18f",
      "metadata": {
        "id": "cd1ed18f"
      },
      "outputs": [],
      "source": [
        "df1.drop(\"eligibility score\", inplace = True, axis = 1)\n",
        "df1.drop(\"Target_Variable\", inplace = True, axis = 1)"
      ]
    },
    {
      "cell_type": "code",
      "execution_count": null,
      "id": "9623a077",
      "metadata": {
        "id": "9623a077"
      },
      "outputs": [],
      "source": [
        "f = []\n",
        "for i in df1.columns:\n",
        "    f.append(df1[i].mean())"
      ]
    },
    {
      "cell_type": "code",
      "execution_count": null,
      "id": "2a1e77d2",
      "metadata": {
        "id": "2a1e77d2"
      },
      "outputs": [],
      "source": [
        "g =list(np.subtract(f,k))"
      ]
    },
    {
      "cell_type": "code",
      "execution_count": null,
      "id": "6995cbfe",
      "metadata": {
        "id": "6995cbfe",
        "outputId": "0163014c-7fa2-4bc0-ad1d-5d3f229fb31b"
      },
      "outputs": [
        {
          "data": {
            "text/plain": [
              "[462.671664744329,\n",
              " 13.733564013840832,\n",
              " 936.8400615148021,\n",
              " 2.4704442906574395,\n",
              " 2.0063889273356397]"
            ]
          },
          "execution_count": 27,
          "metadata": {},
          "output_type": "execute_result"
        }
      ],
      "source": [
        "square_value_no = square(g)\n",
        "square_value_no"
      ]
    },
    {
      "cell_type": "code",
      "execution_count": null,
      "id": "4775fd8d",
      "metadata": {
        "id": "4775fd8d"
      },
      "outputs": [],
      "source": [
        "total_no = 0\n",
        "for ele in range(0, len(square_value_no)):\n",
        "    total_no = total_no + square_value_no[ele]"
      ]
    },
    {
      "cell_type": "code",
      "execution_count": null,
      "id": "61eb336f",
      "metadata": {
        "id": "61eb336f",
        "outputId": "78b9340a-bbe6-46df-8249-bdcf462dd768"
      },
      "outputs": [
        {
          "data": {
            "text/plain": [
              "1417.722123490965"
            ]
          },
          "execution_count": 29,
          "metadata": {},
          "output_type": "execute_result"
        }
      ],
      "source": [
        "total_no"
      ]
    },
    {
      "cell_type": "code",
      "execution_count": null,
      "id": "523e8c06",
      "metadata": {
        "id": "523e8c06",
        "outputId": "fc6ff8fe-aa64-43d2-a705-650f102c8505"
      },
      "outputs": [
        {
          "data": {
            "text/plain": [
              "37.652650949049594"
            ]
          },
          "execution_count": 30,
          "metadata": {},
          "output_type": "execute_result"
        }
      ],
      "source": [
        "no_value = sqrt(total_no)\n",
        "no_value"
      ]
    },
    {
      "cell_type": "code",
      "execution_count": null,
      "id": "3ebf5490",
      "metadata": {
        "id": "3ebf5490",
        "outputId": "6e2e4236-7e34-4284-c8ff-808ccd16d192"
      },
      "outputs": [
        {
          "name": "stdout",
          "output_type": "stream",
          "text": [
            "No\n"
          ]
        }
      ],
      "source": [
        "if no_value < yes_value:\n",
        "    print(\"No\")\n",
        "else :\n",
        "    print(\"Yes\")"
      ]
    },
    {
      "cell_type": "markdown",
      "id": "bb10cc09",
      "metadata": {
        "id": "bb10cc09"
      },
      "source": [
        "# 3rd"
      ]
    },
    {
      "cell_type": "code",
      "execution_count": null,
      "id": "3eeb03bd",
      "metadata": {
        "id": "3eeb03bd"
      },
      "outputs": [],
      "source": [
        "vaibhav= df.copy()"
      ]
    },
    {
      "cell_type": "code",
      "execution_count": null,
      "id": "52a7c9b7",
      "metadata": {
        "id": "52a7c9b7",
        "outputId": "31d1d46e-f916-4324-deb9-b98ae0e60c90"
      },
      "outputs": [
        {
          "data": {
            "text/html": [
              "<div>\n",
              "<style scoped>\n",
              "    .dataframe tbody tr th:only-of-type {\n",
              "        vertical-align: middle;\n",
              "    }\n",
              "\n",
              "    .dataframe tbody tr th {\n",
              "        vertical-align: top;\n",
              "    }\n",
              "\n",
              "    .dataframe thead th {\n",
              "        text-align: right;\n",
              "    }\n",
              "</style>\n",
              "<table border=\"1\" class=\"dataframe\">\n",
              "  <thead>\n",
              "    <tr style=\"text-align: right;\">\n",
              "      <th></th>\n",
              "      <th>age</th>\n",
              "      <th>year_emp</th>\n",
              "      <th>income</th>\n",
              "      <th>cred_debt</th>\n",
              "      <th>other_debt</th>\n",
              "    </tr>\n",
              "  </thead>\n",
              "  <tbody>\n",
              "    <tr>\n",
              "      <th>4</th>\n",
              "      <td>47</td>\n",
              "      <td>26</td>\n",
              "      <td>100</td>\n",
              "      <td>4.58</td>\n",
              "      <td>8.22</td>\n",
              "    </tr>\n",
              "    <tr>\n",
              "      <th>7</th>\n",
              "      <td>36</td>\n",
              "      <td>16</td>\n",
              "      <td>32</td>\n",
              "      <td>0.54</td>\n",
              "      <td>2.94</td>\n",
              "    </tr>\n",
              "    <tr>\n",
              "      <th>8</th>\n",
              "      <td>49</td>\n",
              "      <td>14</td>\n",
              "      <td>63</td>\n",
              "      <td>0.94</td>\n",
              "      <td>9.02</td>\n",
              "    </tr>\n",
              "    <tr>\n",
              "      <th>13</th>\n",
              "      <td>48</td>\n",
              "      <td>17</td>\n",
              "      <td>113</td>\n",
              "      <td>3.38</td>\n",
              "      <td>10.18</td>\n",
              "    </tr>\n",
              "    <tr>\n",
              "      <th>20</th>\n",
              "      <td>38</td>\n",
              "      <td>21</td>\n",
              "      <td>58</td>\n",
              "      <td>4.58</td>\n",
              "      <td>4.99</td>\n",
              "    </tr>\n",
              "  </tbody>\n",
              "</table>\n",
              "</div>"
            ],
            "text/plain": [
              "    age  year_emp  income  cred_debt  other_debt\n",
              "4    47        26     100       4.58        8.22\n",
              "7    36        16      32       0.54        2.94\n",
              "8    49        14      63       0.94        9.02\n",
              "13   48        17     113       3.38       10.18\n",
              "20   38        21      58       4.58        4.99"
            ]
          },
          "execution_count": 33,
          "metadata": {},
          "output_type": "execute_result"
        }
      ],
      "source": [
        "vaibhav.head()"
      ]
    },
    {
      "cell_type": "code",
      "execution_count": null,
      "id": "669f1df1",
      "metadata": {
        "scrolled": true,
        "id": "669f1df1",
        "outputId": "98320e52-0ac9-4d3d-bdec-9db9661e1754"
      },
      "outputs": [
        {
          "data": {
            "text/html": [
              "<div>\n",
              "<style scoped>\n",
              "    .dataframe tbody tr th:only-of-type {\n",
              "        vertical-align: middle;\n",
              "    }\n",
              "\n",
              "    .dataframe tbody tr th {\n",
              "        vertical-align: top;\n",
              "    }\n",
              "\n",
              "    .dataframe thead th {\n",
              "        text-align: right;\n",
              "    }\n",
              "</style>\n",
              "<table border=\"1\" class=\"dataframe\">\n",
              "  <thead>\n",
              "    <tr style=\"text-align: right;\">\n",
              "      <th></th>\n",
              "      <th>age</th>\n",
              "      <th>year_emp</th>\n",
              "      <th>income</th>\n",
              "      <th>cred_debt</th>\n",
              "      <th>other_debt</th>\n",
              "    </tr>\n",
              "  </thead>\n",
              "  <tbody>\n",
              "    <tr>\n",
              "      <th>age</th>\n",
              "      <td>59.530142</td>\n",
              "      <td>22.076241</td>\n",
              "      <td>108.306738</td>\n",
              "      <td>5.576782</td>\n",
              "      <td>9.180559</td>\n",
              "    </tr>\n",
              "    <tr>\n",
              "      <th>year_emp</th>\n",
              "      <td>22.076241</td>\n",
              "      <td>44.934397</td>\n",
              "      <td>125.618794</td>\n",
              "      <td>9.993910</td>\n",
              "      <td>11.764282</td>\n",
              "    </tr>\n",
              "    <tr>\n",
              "      <th>income</th>\n",
              "      <td>108.306738</td>\n",
              "      <td>125.618794</td>\n",
              "      <td>643.359929</td>\n",
              "      <td>50.731410</td>\n",
              "      <td>58.063165</td>\n",
              "    </tr>\n",
              "    <tr>\n",
              "      <th>cred_debt</th>\n",
              "      <td>5.576782</td>\n",
              "      <td>9.993910</td>\n",
              "      <td>50.731410</td>\n",
              "      <td>9.133468</td>\n",
              "      <td>6.899197</td>\n",
              "    </tr>\n",
              "    <tr>\n",
              "      <th>other_debt</th>\n",
              "      <td>9.180559</td>\n",
              "      <td>11.764282</td>\n",
              "      <td>58.063165</td>\n",
              "      <td>6.899197</td>\n",
              "      <td>8.883090</td>\n",
              "    </tr>\n",
              "  </tbody>\n",
              "</table>\n",
              "</div>"
            ],
            "text/plain": [
              "                   age    year_emp      income  cred_debt  other_debt\n",
              "age          59.530142   22.076241  108.306738   5.576782    9.180559\n",
              "year_emp     22.076241   44.934397  125.618794   9.993910   11.764282\n",
              "income      108.306738  125.618794  643.359929  50.731410   58.063165\n",
              "cred_debt     5.576782    9.993910   50.731410   9.133468    6.899197\n",
              "other_debt    9.180559   11.764282   58.063165   6.899197    8.883090"
            ]
          },
          "execution_count": 34,
          "metadata": {},
          "output_type": "execute_result"
        }
      ],
      "source": [
        "covmat=vaibhav.cov()\n",
        "covmat"
      ]
    },
    {
      "cell_type": "code",
      "execution_count": null,
      "id": "bde257d0",
      "metadata": {
        "id": "bde257d0"
      },
      "outputs": [],
      "source": [
        "covmat_inv= np.linalg.inv(covmat)"
      ]
    },
    {
      "cell_type": "code",
      "execution_count": null,
      "id": "5c6f2dca",
      "metadata": {
        "id": "5c6f2dca",
        "outputId": "907090bc-57cd-4aca-d346-f9f53f6fd75a"
      },
      "outputs": [
        {
          "data": {
            "text/plain": [
              "array([[0.02542289, 0.00108523, 0.00483657, 0.0179282 , 0.00714765],\n",
              "       [0.00108523, 0.04919253, 0.00892219, 0.00170581, 0.00703243],\n",
              "       [0.00483657, 0.00892219, 0.00653079, 0.00971439, 0.0183282 ],\n",
              "       [0.0179282 , 0.00170581, 0.00971439, 0.28638653, 0.17971758],\n",
              "       [0.00714765, 0.00703243, 0.0183282 , 0.17971758, 0.38865428]])"
            ]
          },
          "execution_count": 36,
          "metadata": {},
          "output_type": "execute_result"
        }
      ],
      "source": [
        "covmat_inv = abs(covmat_inv)\n",
        "covmat_inv"
      ]
    },
    {
      "cell_type": "code",
      "execution_count": null,
      "id": "019dbf79",
      "metadata": {
        "id": "019dbf79",
        "outputId": "e2e6f4e1-eb82-49cb-9b18-61161ac40fe1"
      },
      "outputs": [
        {
          "data": {
            "text/plain": [
              "(5, 5)"
            ]
          },
          "execution_count": 37,
          "metadata": {},
          "output_type": "execute_result"
        }
      ],
      "source": [
        "mat=np.asmatrix(covmat_inv)\n",
        "mat.shape"
      ]
    },
    {
      "cell_type": "code",
      "execution_count": null,
      "id": "470678e1",
      "metadata": {
        "id": "470678e1",
        "outputId": "e2338599-1c9a-40ae-835b-01cb8b5bdd78"
      },
      "outputs": [
        {
          "data": {
            "text/plain": [
              "matrix([[0.02542289, 0.00108523, 0.00483657, 0.0179282 , 0.00714765],\n",
              "        [0.00108523, 0.04919253, 0.00892219, 0.00170581, 0.00703243],\n",
              "        [0.00483657, 0.00892219, 0.00653079, 0.00971439, 0.0183282 ],\n",
              "        [0.0179282 , 0.00170581, 0.00971439, 0.28638653, 0.17971758],\n",
              "        [0.00714765, 0.00703243, 0.0183282 , 0.17971758, 0.38865428]])"
            ]
          },
          "execution_count": 38,
          "metadata": {},
          "output_type": "execute_result"
        }
      ],
      "source": [
        "mat"
      ]
    },
    {
      "cell_type": "code",
      "execution_count": null,
      "id": "663b0159",
      "metadata": {
        "id": "663b0159",
        "outputId": "93649982-6985-43e0-803c-3bfb82c4932c"
      },
      "outputs": [
        {
          "data": {
            "text/plain": [
              "(1, 5)"
            ]
          },
          "execution_count": 39,
          "metadata": {},
          "output_type": "execute_result"
        }
      ],
      "source": [
        "first=np.asmatrix(np.array(p))\n",
        "first.shape"
      ]
    },
    {
      "cell_type": "code",
      "execution_count": null,
      "id": "81a39e19",
      "metadata": {
        "id": "81a39e19",
        "outputId": "37b49670-a3b1-4c33-8b1a-34f296c00b77"
      },
      "outputs": [
        {
          "data": {
            "text/plain": [
              "matrix([[20.04166667,  2.20833333, 33.79166667,  0.434375  ,  1.343125  ]])"
            ]
          },
          "execution_count": 40,
          "metadata": {},
          "output_type": "execute_result"
        }
      ],
      "source": [
        "first = abs(first)\n",
        "first"
      ]
    },
    {
      "cell_type": "code",
      "execution_count": null,
      "id": "bfc9ecf2",
      "metadata": {
        "id": "bfc9ecf2",
        "outputId": "29a00b59-1f58-4ce6-94c5-bb4968bb7e59"
      },
      "outputs": [
        {
          "data": {
            "text/plain": [
              "(5, 1)"
            ]
          },
          "execution_count": 41,
          "metadata": {},
          "output_type": "execute_result"
        }
      ],
      "source": [
        "third = np.transpose(first)\n",
        "third.shape"
      ]
    },
    {
      "cell_type": "code",
      "execution_count": null,
      "id": "463e7cdf",
      "metadata": {
        "id": "463e7cdf",
        "outputId": "1e7001a7-6aec-4fc0-ed06-98930f83b983"
      },
      "outputs": [
        {
          "data": {
            "text/plain": [
              "matrix([[20.04166667],\n",
              "        [ 2.20833333],\n",
              "        [33.79166667],\n",
              "        [ 0.434375  ],\n",
              "        [ 1.343125  ]])"
            ]
          },
          "execution_count": 42,
          "metadata": {},
          "output_type": "execute_result"
        }
      ],
      "source": [
        "third"
      ]
    },
    {
      "cell_type": "code",
      "execution_count": null,
      "id": "ec92478c",
      "metadata": {
        "id": "ec92478c"
      },
      "outputs": [],
      "source": [
        "m1=np.dot(first,mat)"
      ]
    },
    {
      "cell_type": "code",
      "execution_count": null,
      "id": "f78bf3b1",
      "metadata": {
        "id": "f78bf3b1",
        "outputId": "ee806e11-2e2c-4f01-e6c3-7ec913886400"
      },
      "outputs": [
        {
          "data": {
            "text/plain": [
              "(matrix([[0.69273699, 0.44206548, 0.36615887, 1.05712565, 1.37819722]]),\n",
              " (1, 5))"
            ]
          },
          "execution_count": 44,
          "metadata": {},
          "output_type": "execute_result"
        }
      ],
      "source": [
        "m1, m1.shape"
      ]
    },
    {
      "cell_type": "code",
      "execution_count": null,
      "id": "6573dee7",
      "metadata": {
        "id": "6573dee7"
      },
      "outputs": [],
      "source": [
        "m2 = np.dot(m1,third)"
      ]
    },
    {
      "cell_type": "code",
      "execution_count": null,
      "id": "d19b337d",
      "metadata": {
        "scrolled": true,
        "id": "d19b337d",
        "outputId": "afe8e0ce-81a6-46ec-d4c4-ac1adad7a236"
      },
      "outputs": [
        {
          "data": {
            "text/plain": [
              "matrix([[29.54323048]])"
            ]
          },
          "execution_count": 46,
          "metadata": {},
          "output_type": "execute_result"
        }
      ],
      "source": [
        "m2"
      ]
    },
    {
      "cell_type": "code",
      "execution_count": null,
      "id": "3f42cd9c",
      "metadata": {
        "id": "3f42cd9c"
      },
      "outputs": [],
      "source": [
        "kushagra = df1.copy()"
      ]
    },
    {
      "cell_type": "code",
      "execution_count": null,
      "id": "5dc9701b",
      "metadata": {
        "id": "5dc9701b",
        "outputId": "24ed4b95-723b-4c87-b7de-4afcb6fc04a0"
      },
      "outputs": [
        {
          "data": {
            "text/html": [
              "<div>\n",
              "<style scoped>\n",
              "    .dataframe tbody tr th:only-of-type {\n",
              "        vertical-align: middle;\n",
              "    }\n",
              "\n",
              "    .dataframe tbody tr th {\n",
              "        vertical-align: top;\n",
              "    }\n",
              "\n",
              "    .dataframe thead th {\n",
              "        text-align: right;\n",
              "    }\n",
              "</style>\n",
              "<table border=\"1\" class=\"dataframe\">\n",
              "  <thead>\n",
              "    <tr style=\"text-align: right;\">\n",
              "      <th></th>\n",
              "      <th>age</th>\n",
              "      <th>year_emp</th>\n",
              "      <th>income</th>\n",
              "      <th>cred_debt</th>\n",
              "      <th>other_debt</th>\n",
              "    </tr>\n",
              "  </thead>\n",
              "  <tbody>\n",
              "    <tr>\n",
              "      <th>0</th>\n",
              "      <td>47</td>\n",
              "      <td>22</td>\n",
              "      <td>81</td>\n",
              "      <td>1.51</td>\n",
              "      <td>2.95</td>\n",
              "    </tr>\n",
              "    <tr>\n",
              "      <th>1</th>\n",
              "      <td>40</td>\n",
              "      <td>22</td>\n",
              "      <td>95</td>\n",
              "      <td>0.63</td>\n",
              "      <td>2.79</td>\n",
              "    </tr>\n",
              "    <tr>\n",
              "      <th>2</th>\n",
              "      <td>35</td>\n",
              "      <td>16</td>\n",
              "      <td>36</td>\n",
              "      <td>0.18</td>\n",
              "      <td>1.05</td>\n",
              "    </tr>\n",
              "    <tr>\n",
              "      <th>3</th>\n",
              "      <td>43</td>\n",
              "      <td>16</td>\n",
              "      <td>89</td>\n",
              "      <td>0.16</td>\n",
              "      <td>0.20</td>\n",
              "    </tr>\n",
              "    <tr>\n",
              "      <th>6</th>\n",
              "      <td>35</td>\n",
              "      <td>13</td>\n",
              "      <td>35</td>\n",
              "      <td>0.43</td>\n",
              "      <td>1.14</td>\n",
              "    </tr>\n",
              "  </tbody>\n",
              "</table>\n",
              "</div>"
            ],
            "text/plain": [
              "   age  year_emp  income  cred_debt  other_debt\n",
              "0   47        22      81       1.51        2.95\n",
              "1   40        22      95       0.63        2.79\n",
              "2   35        16      36       0.18        1.05\n",
              "3   43        16      89       0.16        0.20\n",
              "6   35        13      35       0.43        1.14"
            ]
          },
          "execution_count": 48,
          "metadata": {},
          "output_type": "execute_result"
        }
      ],
      "source": [
        "kushagra.head()"
      ]
    },
    {
      "cell_type": "code",
      "execution_count": null,
      "id": "1f1f8889",
      "metadata": {
        "id": "1f1f8889",
        "outputId": "3e17d96d-b4bf-4131-b8f3-c0577b508365"
      },
      "outputs": [
        {
          "data": {
            "text/html": [
              "<div>\n",
              "<style scoped>\n",
              "    .dataframe tbody tr th:only-of-type {\n",
              "        vertical-align: middle;\n",
              "    }\n",
              "\n",
              "    .dataframe tbody tr th {\n",
              "        vertical-align: top;\n",
              "    }\n",
              "\n",
              "    .dataframe thead th {\n",
              "        text-align: right;\n",
              "    }\n",
              "</style>\n",
              "<table border=\"1\" class=\"dataframe\">\n",
              "  <thead>\n",
              "    <tr style=\"text-align: right;\">\n",
              "      <th></th>\n",
              "      <th>age</th>\n",
              "      <th>year_emp</th>\n",
              "      <th>income</th>\n",
              "      <th>cred_debt</th>\n",
              "      <th>other_debt</th>\n",
              "    </tr>\n",
              "  </thead>\n",
              "  <tbody>\n",
              "    <tr>\n",
              "      <th>age</th>\n",
              "      <td>62.454902</td>\n",
              "      <td>24.412941</td>\n",
              "      <td>148.503922</td>\n",
              "      <td>2.447682</td>\n",
              "      <td>4.949835</td>\n",
              "    </tr>\n",
              "    <tr>\n",
              "      <th>year_emp</th>\n",
              "      <td>24.412941</td>\n",
              "      <td>39.251765</td>\n",
              "      <td>150.982353</td>\n",
              "      <td>3.623929</td>\n",
              "      <td>3.270541</td>\n",
              "    </tr>\n",
              "    <tr>\n",
              "      <th>income</th>\n",
              "      <td>148.503922</td>\n",
              "      <td>150.982353</td>\n",
              "      <td>1076.563137</td>\n",
              "      <td>37.745306</td>\n",
              "      <td>28.829988</td>\n",
              "    </tr>\n",
              "    <tr>\n",
              "      <th>cred_debt</th>\n",
              "      <td>2.447682</td>\n",
              "      <td>3.623929</td>\n",
              "      <td>37.745306</td>\n",
              "      <td>2.687835</td>\n",
              "      <td>1.026812</td>\n",
              "    </tr>\n",
              "    <tr>\n",
              "      <th>other_debt</th>\n",
              "      <td>4.949835</td>\n",
              "      <td>3.270541</td>\n",
              "      <td>28.829988</td>\n",
              "      <td>1.026812</td>\n",
              "      <td>1.933803</td>\n",
              "    </tr>\n",
              "  </tbody>\n",
              "</table>\n",
              "</div>"
            ],
            "text/plain": [
              "                   age    year_emp       income  cred_debt  other_debt\n",
              "age          62.454902   24.412941   148.503922   2.447682    4.949835\n",
              "year_emp     24.412941   39.251765   150.982353   3.623929    3.270541\n",
              "income      148.503922  150.982353  1076.563137  37.745306   28.829988\n",
              "cred_debt     2.447682    3.623929    37.745306   2.687835    1.026812\n",
              "other_debt    4.949835    3.270541    28.829988   1.026812    1.933803"
            ]
          },
          "execution_count": 49,
          "metadata": {},
          "output_type": "execute_result"
        }
      ],
      "source": [
        "covmat_no=kushagra.cov()\n",
        "covmat_no"
      ]
    },
    {
      "cell_type": "code",
      "execution_count": null,
      "id": "047f1dda",
      "metadata": {
        "id": "047f1dda",
        "outputId": "3f8f82ba-c1ea-4798-9443-e0ce3df0e3f1"
      },
      "outputs": [
        {
          "data": {
            "text/plain": [
              "array([[0.02819034, 0.00156262, 0.00493096, 0.05538861, 0.02541162],\n",
              "       [0.00156262, 0.06441249, 0.0126076 , 0.07515492, 0.043116  ],\n",
              "       [0.00493096, 0.0126076 , 0.00587024, 0.05078231, 0.02660762],\n",
              "       [0.05538861, 0.07515492, 0.05078231, 0.93697069, 0.00930879],\n",
              "       [0.02541162, 0.043116  , 0.02660762, 0.00930879, 0.91086127]])"
            ]
          },
          "execution_count": 50,
          "metadata": {},
          "output_type": "execute_result"
        }
      ],
      "source": [
        "covmat_inv_no= np.linalg.inv(covmat_no)\n",
        "covmat_inv_no= abs(covmat_inv_no)\n",
        "covmat_inv_no"
      ]
    },
    {
      "cell_type": "code",
      "execution_count": null,
      "id": "92372917",
      "metadata": {
        "id": "92372917",
        "outputId": "4d50a11d-5937-44b7-ee12-c56ffc07884d"
      },
      "outputs": [
        {
          "data": {
            "text/plain": [
              "(5, 5)"
            ]
          },
          "execution_count": 51,
          "metadata": {},
          "output_type": "execute_result"
        }
      ],
      "source": [
        "mat_no=np.asmatrix(covmat_inv_no)\n",
        "mat_no.shape"
      ]
    },
    {
      "cell_type": "code",
      "execution_count": null,
      "id": "664b9407",
      "metadata": {
        "id": "664b9407",
        "outputId": "e9b6ab13-1545-4ce0-fee8-861b5f061734"
      },
      "outputs": [
        {
          "data": {
            "text/plain": [
              "matrix([[0.02819034, 0.00156262, 0.00493096, 0.05538861, 0.02541162],\n",
              "        [0.00156262, 0.06441249, 0.0126076 , 0.07515492, 0.043116  ],\n",
              "        [0.00493096, 0.0126076 , 0.00587024, 0.05078231, 0.02660762],\n",
              "        [0.05538861, 0.07515492, 0.05078231, 0.93697069, 0.00930879],\n",
              "        [0.02541162, 0.043116  , 0.02660762, 0.00930879, 0.91086127]])"
            ]
          },
          "execution_count": 52,
          "metadata": {},
          "output_type": "execute_result"
        }
      ],
      "source": [
        "mat_no"
      ]
    },
    {
      "cell_type": "code",
      "execution_count": null,
      "id": "f01e0bf5",
      "metadata": {
        "id": "f01e0bf5",
        "outputId": "e1a26e88-886c-4906-8468-48eada456623"
      },
      "outputs": [
        {
          "data": {
            "text/plain": [
              "(1, 5)"
            ]
          },
          "execution_count": 53,
          "metadata": {},
          "output_type": "execute_result"
        }
      ],
      "source": [
        "first_no=np.asmatrix(np.array(g))\n",
        "first_no.shape"
      ]
    },
    {
      "cell_type": "code",
      "execution_count": null,
      "id": "53ddbb94",
      "metadata": {
        "id": "53ddbb94",
        "outputId": "a96de45e-05d3-42f8-d3a0-1e7b66c4eed5"
      },
      "outputs": [
        {
          "data": {
            "text/plain": [
              "matrix([[21.50980392,  3.70588235, 30.60784314,  1.57176471,  1.41647059]])"
            ]
          },
          "execution_count": 54,
          "metadata": {},
          "output_type": "execute_result"
        }
      ],
      "source": [
        "first_no = abs(first_no)\n",
        "first_no"
      ]
    },
    {
      "cell_type": "code",
      "execution_count": null,
      "id": "2bc5df5f",
      "metadata": {
        "id": "2bc5df5f",
        "outputId": "11be5b24-d457-46ca-c947-968b452d7997"
      },
      "outputs": [
        {
          "data": {
            "text/plain": [
              "(5, 1)"
            ]
          },
          "execution_count": 55,
          "metadata": {},
          "output_type": "execute_result"
        }
      ],
      "source": [
        "third_no = np.transpose(first_no)\n",
        "third.shape"
      ]
    },
    {
      "cell_type": "code",
      "execution_count": null,
      "id": "8a59ec8e",
      "metadata": {
        "id": "8a59ec8e",
        "outputId": "beec1e0f-a8c2-4c80-b934-cde4ef55b1a8"
      },
      "outputs": [
        {
          "data": {
            "text/plain": [
              "matrix([[21.50980392],\n",
              "        [ 3.70588235],\n",
              "        [30.60784314],\n",
              "        [ 1.57176471],\n",
              "        [ 1.41647059]])"
            ]
          },
          "execution_count": 56,
          "metadata": {},
          "output_type": "execute_result"
        }
      ],
      "source": [
        "third_no"
      ]
    },
    {
      "cell_type": "code",
      "execution_count": null,
      "id": "5fe5def2",
      "metadata": {
        "id": "5fe5def2"
      },
      "outputs": [],
      "source": [
        "d1=np.dot(first_no,mat_no)"
      ]
    },
    {
      "cell_type": "code",
      "execution_count": null,
      "id": "515900f0",
      "metadata": {
        "id": "515900f0"
      },
      "outputs": [],
      "source": [
        "d2 = np.dot(d1,third_no)"
      ]
    },
    {
      "cell_type": "code",
      "execution_count": null,
      "id": "ad7fe90e",
      "metadata": {
        "id": "ad7fe90e",
        "outputId": "56496a26-5bf4-4e23-f806-31b5bbf19dcf"
      },
      "outputs": [
        {
          "data": {
            "text/plain": [
              "matrix([[47.02783437]])"
            ]
          },
          "execution_count": 59,
          "metadata": {},
          "output_type": "execute_result"
        }
      ],
      "source": [
        "d2"
      ]
    },
    {
      "cell_type": "code",
      "execution_count": null,
      "id": "2385c4c8",
      "metadata": {
        "id": "2385c4c8",
        "outputId": "9027f775-5f4d-4135-a2cb-37303b53ae53"
      },
      "outputs": [
        {
          "data": {
            "text/plain": [
              "6.857684329645471"
            ]
          },
          "execution_count": 60,
          "metadata": {},
          "output_type": "execute_result"
        }
      ],
      "source": [
        "no1 = sqrt(d2)\n",
        "no1"
      ]
    },
    {
      "cell_type": "code",
      "execution_count": null,
      "id": "56ca5423",
      "metadata": {
        "id": "56ca5423",
        "outputId": "60808374-7439-439d-f8d7-55397b0ed6bf"
      },
      "outputs": [
        {
          "data": {
            "text/plain": [
              "5.435368476890771"
            ]
          },
          "execution_count": 61,
          "metadata": {},
          "output_type": "execute_result"
        }
      ],
      "source": [
        "yes1 = sqrt(m2)\n",
        "yes1"
      ]
    },
    {
      "cell_type": "code",
      "execution_count": null,
      "id": "6dd4ae83",
      "metadata": {
        "id": "6dd4ae83",
        "outputId": "2b36f7a8-5c52-458c-ad50-ad85390b1c02"
      },
      "outputs": [
        {
          "name": "stdout",
          "output_type": "stream",
          "text": [
            "Yes\n"
          ]
        }
      ],
      "source": [
        "if yes1< no1:\n",
        "    print(\"Yes\")\n",
        "else:\n",
        "    print(\"No\")"
      ]
    },
    {
      "cell_type": "markdown",
      "id": "0ff06dae",
      "metadata": {
        "id": "0ff06dae"
      },
      "source": [
        "# 4th"
      ]
    },
    {
      "cell_type": "code",
      "execution_count": null,
      "id": "b747eb04",
      "metadata": {
        "id": "b747eb04",
        "outputId": "aacf4dfb-15fe-4267-b175-d5c1bebf5ad8"
      },
      "outputs": [
        {
          "data": {
            "text/html": [
              "<div>\n",
              "<style scoped>\n",
              "    .dataframe tbody tr th:only-of-type {\n",
              "        vertical-align: middle;\n",
              "    }\n",
              "\n",
              "    .dataframe tbody tr th {\n",
              "        vertical-align: top;\n",
              "    }\n",
              "\n",
              "    .dataframe thead th {\n",
              "        text-align: right;\n",
              "    }\n",
              "</style>\n",
              "<table border=\"1\" class=\"dataframe\">\n",
              "  <thead>\n",
              "    <tr style=\"text-align: right;\">\n",
              "      <th></th>\n",
              "      <th>eligibility score</th>\n",
              "      <th>age</th>\n",
              "      <th>year_emp</th>\n",
              "      <th>income</th>\n",
              "      <th>cred_debt</th>\n",
              "      <th>other_debt</th>\n",
              "      <th>Target_Variable</th>\n",
              "    </tr>\n",
              "  </thead>\n",
              "  <tbody>\n",
              "    <tr>\n",
              "      <th>0</th>\n",
              "      <td>5.5</td>\n",
              "      <td>47</td>\n",
              "      <td>22</td>\n",
              "      <td>81</td>\n",
              "      <td>1.51</td>\n",
              "      <td>2.95</td>\n",
              "      <td>No</td>\n",
              "    </tr>\n",
              "    <tr>\n",
              "      <th>1</th>\n",
              "      <td>3.6</td>\n",
              "      <td>40</td>\n",
              "      <td>22</td>\n",
              "      <td>95</td>\n",
              "      <td>0.63</td>\n",
              "      <td>2.79</td>\n",
              "      <td>No</td>\n",
              "    </tr>\n",
              "    <tr>\n",
              "      <th>2</th>\n",
              "      <td>3.4</td>\n",
              "      <td>35</td>\n",
              "      <td>16</td>\n",
              "      <td>36</td>\n",
              "      <td>0.18</td>\n",
              "      <td>1.05</td>\n",
              "      <td>No</td>\n",
              "    </tr>\n",
              "    <tr>\n",
              "      <th>3</th>\n",
              "      <td>0.4</td>\n",
              "      <td>43</td>\n",
              "      <td>16</td>\n",
              "      <td>89</td>\n",
              "      <td>0.16</td>\n",
              "      <td>0.20</td>\n",
              "      <td>No</td>\n",
              "    </tr>\n",
              "    <tr>\n",
              "      <th>6</th>\n",
              "      <td>4.5</td>\n",
              "      <td>35</td>\n",
              "      <td>13</td>\n",
              "      <td>35</td>\n",
              "      <td>0.43</td>\n",
              "      <td>1.14</td>\n",
              "      <td>No</td>\n",
              "    </tr>\n",
              "  </tbody>\n",
              "</table>\n",
              "</div>"
            ],
            "text/plain": [
              "   eligibility score  age  year_emp  income  cred_debt  other_debt  \\\n",
              "0                5.5   47        22      81       1.51        2.95   \n",
              "1                3.6   40        22      95       0.63        2.79   \n",
              "2                3.4   35        16      36       0.18        1.05   \n",
              "3                0.4   43        16      89       0.16        0.20   \n",
              "6                4.5   35        13      35       0.43        1.14   \n",
              "\n",
              "  Target_Variable  \n",
              "0              No  \n",
              "1              No  \n",
              "2              No  \n",
              "3              No  \n",
              "6              No  "
            ]
          },
          "execution_count": 63,
          "metadata": {},
          "output_type": "execute_result"
        }
      ],
      "source": [
        "data_no.head()"
      ]
    },
    {
      "cell_type": "code",
      "execution_count": null,
      "id": "1110eadd",
      "metadata": {
        "id": "1110eadd"
      },
      "outputs": [],
      "source": [
        "bhavay = data_no.copy()"
      ]
    },
    {
      "cell_type": "code",
      "execution_count": null,
      "id": "c57f9a6b",
      "metadata": {
        "id": "c57f9a6b"
      },
      "outputs": [],
      "source": [
        "bhavay.drop(\"Target_Variable\", inplace = True, axis = 1)"
      ]
    },
    {
      "cell_type": "code",
      "execution_count": null,
      "id": "6c236b58",
      "metadata": {
        "id": "6c236b58",
        "outputId": "ee1bf54c-6632-4552-940f-2d881d3b221e"
      },
      "outputs": [
        {
          "data": {
            "text/html": [
              "<div>\n",
              "<style scoped>\n",
              "    .dataframe tbody tr th:only-of-type {\n",
              "        vertical-align: middle;\n",
              "    }\n",
              "\n",
              "    .dataframe tbody tr th {\n",
              "        vertical-align: top;\n",
              "    }\n",
              "\n",
              "    .dataframe thead th {\n",
              "        text-align: right;\n",
              "    }\n",
              "</style>\n",
              "<table border=\"1\" class=\"dataframe\">\n",
              "  <thead>\n",
              "    <tr style=\"text-align: right;\">\n",
              "      <th></th>\n",
              "      <th>eligibility score</th>\n",
              "      <th>age</th>\n",
              "      <th>year_emp</th>\n",
              "      <th>income</th>\n",
              "      <th>cred_debt</th>\n",
              "      <th>other_debt</th>\n",
              "    </tr>\n",
              "  </thead>\n",
              "  <tbody>\n",
              "    <tr>\n",
              "      <th>0</th>\n",
              "      <td>5.5</td>\n",
              "      <td>47</td>\n",
              "      <td>22</td>\n",
              "      <td>81</td>\n",
              "      <td>1.51</td>\n",
              "      <td>2.95</td>\n",
              "    </tr>\n",
              "    <tr>\n",
              "      <th>1</th>\n",
              "      <td>3.6</td>\n",
              "      <td>40</td>\n",
              "      <td>22</td>\n",
              "      <td>95</td>\n",
              "      <td>0.63</td>\n",
              "      <td>2.79</td>\n",
              "    </tr>\n",
              "    <tr>\n",
              "      <th>2</th>\n",
              "      <td>3.4</td>\n",
              "      <td>35</td>\n",
              "      <td>16</td>\n",
              "      <td>36</td>\n",
              "      <td>0.18</td>\n",
              "      <td>1.05</td>\n",
              "    </tr>\n",
              "    <tr>\n",
              "      <th>3</th>\n",
              "      <td>0.4</td>\n",
              "      <td>43</td>\n",
              "      <td>16</td>\n",
              "      <td>89</td>\n",
              "      <td>0.16</td>\n",
              "      <td>0.20</td>\n",
              "    </tr>\n",
              "    <tr>\n",
              "      <th>6</th>\n",
              "      <td>4.5</td>\n",
              "      <td>35</td>\n",
              "      <td>13</td>\n",
              "      <td>35</td>\n",
              "      <td>0.43</td>\n",
              "      <td>1.14</td>\n",
              "    </tr>\n",
              "  </tbody>\n",
              "</table>\n",
              "</div>"
            ],
            "text/plain": [
              "   eligibility score  age  year_emp  income  cred_debt  other_debt\n",
              "0                5.5   47        22      81       1.51        2.95\n",
              "1                3.6   40        22      95       0.63        2.79\n",
              "2                3.4   35        16      36       0.18        1.05\n",
              "3                0.4   43        16      89       0.16        0.20\n",
              "6                4.5   35        13      35       0.43        1.14"
            ]
          },
          "execution_count": 67,
          "metadata": {},
          "output_type": "execute_result"
        }
      ],
      "source": [
        "bhavay.head()"
      ]
    },
    {
      "cell_type": "code",
      "execution_count": null,
      "id": "26b555d5",
      "metadata": {
        "id": "26b555d5"
      },
      "outputs": [],
      "source": [
        "from statsmodels.formula.api import ols\n",
        "import statsmodels.api as sm"
      ]
    },
    {
      "cell_type": "code",
      "execution_count": null,
      "id": "18a529a7",
      "metadata": {
        "id": "18a529a7",
        "outputId": "3f9c98a9-597e-438f-acf6-41bedd575544"
      },
      "outputs": [
        {
          "data": {
            "text/html": [
              "<div>\n",
              "<style scoped>\n",
              "    .dataframe tbody tr th:only-of-type {\n",
              "        vertical-align: middle;\n",
              "    }\n",
              "\n",
              "    .dataframe tbody tr th {\n",
              "        vertical-align: top;\n",
              "    }\n",
              "\n",
              "    .dataframe thead th {\n",
              "        text-align: right;\n",
              "    }\n",
              "</style>\n",
              "<table border=\"1\" class=\"dataframe\">\n",
              "  <thead>\n",
              "    <tr style=\"text-align: right;\">\n",
              "      <th></th>\n",
              "      <th>age</th>\n",
              "      <th>year_emp</th>\n",
              "      <th>income</th>\n",
              "      <th>cred_debt</th>\n",
              "      <th>other_debt</th>\n",
              "    </tr>\n",
              "  </thead>\n",
              "  <tbody>\n",
              "    <tr>\n",
              "      <th>0</th>\n",
              "      <td>47</td>\n",
              "      <td>22</td>\n",
              "      <td>81</td>\n",
              "      <td>1.51</td>\n",
              "      <td>2.95</td>\n",
              "    </tr>\n",
              "    <tr>\n",
              "      <th>1</th>\n",
              "      <td>40</td>\n",
              "      <td>22</td>\n",
              "      <td>95</td>\n",
              "      <td>0.63</td>\n",
              "      <td>2.79</td>\n",
              "    </tr>\n",
              "    <tr>\n",
              "      <th>2</th>\n",
              "      <td>35</td>\n",
              "      <td>16</td>\n",
              "      <td>36</td>\n",
              "      <td>0.18</td>\n",
              "      <td>1.05</td>\n",
              "    </tr>\n",
              "    <tr>\n",
              "      <th>3</th>\n",
              "      <td>43</td>\n",
              "      <td>16</td>\n",
              "      <td>89</td>\n",
              "      <td>0.16</td>\n",
              "      <td>0.20</td>\n",
              "    </tr>\n",
              "    <tr>\n",
              "      <th>6</th>\n",
              "      <td>35</td>\n",
              "      <td>13</td>\n",
              "      <td>35</td>\n",
              "      <td>0.43</td>\n",
              "      <td>1.14</td>\n",
              "    </tr>\n",
              "  </tbody>\n",
              "</table>\n",
              "</div>"
            ],
            "text/plain": [
              "   age  year_emp  income  cred_debt  other_debt\n",
              "0   47        22      81       1.51        2.95\n",
              "1   40        22      95       0.63        2.79\n",
              "2   35        16      36       0.18        1.05\n",
              "3   43        16      89       0.16        0.20\n",
              "6   35        13      35       0.43        1.14"
            ]
          },
          "execution_count": 72,
          "metadata": {},
          "output_type": "execute_result"
        }
      ],
      "source": [
        "X = bhavay.drop(\"eligibility score\", axis = 1)\n",
        "X.head()"
      ]
    },
    {
      "cell_type": "code",
      "execution_count": null,
      "id": "83f463a1",
      "metadata": {
        "id": "83f463a1",
        "outputId": "e3ec5ed5-869b-4d58-b529-21ab7fe91e9b"
      },
      "outputs": [
        {
          "data": {
            "text/html": [
              "<div>\n",
              "<style scoped>\n",
              "    .dataframe tbody tr th:only-of-type {\n",
              "        vertical-align: middle;\n",
              "    }\n",
              "\n",
              "    .dataframe tbody tr th {\n",
              "        vertical-align: top;\n",
              "    }\n",
              "\n",
              "    .dataframe thead th {\n",
              "        text-align: right;\n",
              "    }\n",
              "</style>\n",
              "<table border=\"1\" class=\"dataframe\">\n",
              "  <thead>\n",
              "    <tr style=\"text-align: right;\">\n",
              "      <th></th>\n",
              "      <th>eligibility score</th>\n",
              "    </tr>\n",
              "  </thead>\n",
              "  <tbody>\n",
              "    <tr>\n",
              "      <th>0</th>\n",
              "      <td>5.5</td>\n",
              "    </tr>\n",
              "    <tr>\n",
              "      <th>1</th>\n",
              "      <td>3.6</td>\n",
              "    </tr>\n",
              "    <tr>\n",
              "      <th>2</th>\n",
              "      <td>3.4</td>\n",
              "    </tr>\n",
              "    <tr>\n",
              "      <th>3</th>\n",
              "      <td>0.4</td>\n",
              "    </tr>\n",
              "    <tr>\n",
              "      <th>6</th>\n",
              "      <td>4.5</td>\n",
              "    </tr>\n",
              "  </tbody>\n",
              "</table>\n",
              "</div>"
            ],
            "text/plain": [
              "   eligibility score\n",
              "0                5.5\n",
              "1                3.6\n",
              "2                3.4\n",
              "3                0.4\n",
              "6                4.5"
            ]
          },
          "execution_count": 93,
          "metadata": {},
          "output_type": "execute_result"
        }
      ],
      "source": [
        "y = bhavay[[\"eligibility score\"]]\n",
        "y.head()"
      ]
    },
    {
      "cell_type": "code",
      "execution_count": null,
      "id": "021947c3",
      "metadata": {
        "id": "021947c3",
        "outputId": "95e137b9-dd9c-4d21-9738-1cda72942a95"
      },
      "outputs": [
        {
          "data": {
            "text/html": [
              "<table class=\"simpletable\">\n",
              "<caption>OLS Regression Results</caption>\n",
              "<tr>\n",
              "  <th>Dep. Variable:</th>    <td>eligibility score</td> <th>  R-squared:         </th> <td>   0.669</td>\n",
              "</tr>\n",
              "<tr>\n",
              "  <th>Model:</th>                   <td>OLS</td>        <th>  Adj. R-squared:    </th> <td>   0.632</td>\n",
              "</tr>\n",
              "<tr>\n",
              "  <th>Method:</th>             <td>Least Squares</td>   <th>  F-statistic:       </th> <td>   18.21</td>\n",
              "</tr>\n",
              "<tr>\n",
              "  <th>Date:</th>             <td>Fri, 13 Jan 2023</td>  <th>  Prob (F-statistic):</th> <td>7.62e-10</td>\n",
              "</tr>\n",
              "<tr>\n",
              "  <th>Time:</th>                 <td>11:55:32</td>      <th>  Log-Likelihood:    </th> <td> -96.433</td>\n",
              "</tr>\n",
              "<tr>\n",
              "  <th>No. Observations:</th>      <td>    51</td>       <th>  AIC:               </th> <td>   204.9</td>\n",
              "</tr>\n",
              "<tr>\n",
              "  <th>Df Residuals:</th>          <td>    45</td>       <th>  BIC:               </th> <td>   216.5</td>\n",
              "</tr>\n",
              "<tr>\n",
              "  <th>Df Model:</th>              <td>     5</td>       <th>                     </th>     <td> </td>   \n",
              "</tr>\n",
              "<tr>\n",
              "  <th>Covariance Type:</th>      <td>nonrobust</td>     <th>                     </th>     <td> </td>   \n",
              "</tr>\n",
              "</table>\n",
              "<table class=\"simpletable\">\n",
              "<tr>\n",
              "       <td></td>         <th>coef</th>     <th>std err</th>      <th>t</th>      <th>P>|t|</th>  <th>[0.025</th>    <th>0.975]</th>  \n",
              "</tr>\n",
              "<tr>\n",
              "  <th>const</th>      <td>    7.9457</td> <td>    1.121</td> <td>    7.086</td> <td> 0.000</td> <td>    5.687</td> <td>   10.204</td>\n",
              "</tr>\n",
              "<tr>\n",
              "  <th>age</th>        <td>   -0.0799</td> <td>    0.041</td> <td>   -1.971</td> <td> 0.055</td> <td>   -0.162</td> <td>    0.002</td>\n",
              "</tr>\n",
              "<tr>\n",
              "  <th>year_emp</th>   <td>    0.0052</td> <td>    0.061</td> <td>    0.085</td> <td> 0.933</td> <td>   -0.118</td> <td>    0.129</td>\n",
              "</tr>\n",
              "<tr>\n",
              "  <th>income</th>     <td>   -0.0748</td> <td>    0.018</td> <td>   -4.043</td> <td> 0.000</td> <td>   -0.112</td> <td>   -0.038</td>\n",
              "</tr>\n",
              "<tr>\n",
              "  <th>cred_debt</th>  <td>    0.9796</td> <td>    0.234</td> <td>    4.193</td> <td> 0.000</td> <td>    0.509</td> <td>    1.450</td>\n",
              "</tr>\n",
              "<tr>\n",
              "  <th>other_debt</th> <td>    1.7420</td> <td>    0.230</td> <td>    7.563</td> <td> 0.000</td> <td>    1.278</td> <td>    2.206</td>\n",
              "</tr>\n",
              "</table>\n",
              "<table class=\"simpletable\">\n",
              "<tr>\n",
              "  <th>Omnibus:</th>       <td> 1.382</td> <th>  Durbin-Watson:     </th> <td>   1.968</td>\n",
              "</tr>\n",
              "<tr>\n",
              "  <th>Prob(Omnibus):</th> <td> 0.501</td> <th>  Jarque-Bera (JB):  </th> <td>   1.196</td>\n",
              "</tr>\n",
              "<tr>\n",
              "  <th>Skew:</th>          <td>-0.367</td> <th>  Prob(JB):          </th> <td>   0.550</td>\n",
              "</tr>\n",
              "<tr>\n",
              "  <th>Kurtosis:</th>      <td> 2.846</td> <th>  Cond. No.          </th> <td>    306.</td>\n",
              "</tr>\n",
              "</table><br/><br/>Notes:<br/>[1] Standard Errors assume that the covariance matrix of the errors is correctly specified."
            ],
            "text/plain": [
              "<class 'statsmodels.iolib.summary.Summary'>\n",
              "\"\"\"\n",
              "                            OLS Regression Results                            \n",
              "==============================================================================\n",
              "Dep. Variable:      eligibility score   R-squared:                       0.669\n",
              "Model:                            OLS   Adj. R-squared:                  0.632\n",
              "Method:                 Least Squares   F-statistic:                     18.21\n",
              "Date:                Fri, 13 Jan 2023   Prob (F-statistic):           7.62e-10\n",
              "Time:                        11:55:32   Log-Likelihood:                -96.433\n",
              "No. Observations:                  51   AIC:                             204.9\n",
              "Df Residuals:                      45   BIC:                             216.5\n",
              "Df Model:                           5                                         \n",
              "Covariance Type:            nonrobust                                         \n",
              "==============================================================================\n",
              "                 coef    std err          t      P>|t|      [0.025      0.975]\n",
              "------------------------------------------------------------------------------\n",
              "const          7.9457      1.121      7.086      0.000       5.687      10.204\n",
              "age           -0.0799      0.041     -1.971      0.055      -0.162       0.002\n",
              "year_emp       0.0052      0.061      0.085      0.933      -0.118       0.129\n",
              "income        -0.0748      0.018     -4.043      0.000      -0.112      -0.038\n",
              "cred_debt      0.9796      0.234      4.193      0.000       0.509       1.450\n",
              "other_debt     1.7420      0.230      7.563      0.000       1.278       2.206\n",
              "==============================================================================\n",
              "Omnibus:                        1.382   Durbin-Watson:                   1.968\n",
              "Prob(Omnibus):                  0.501   Jarque-Bera (JB):                1.196\n",
              "Skew:                          -0.367   Prob(JB):                        0.550\n",
              "Kurtosis:                       2.846   Cond. No.                         306.\n",
              "==============================================================================\n",
              "\n",
              "Notes:\n",
              "[1] Standard Errors assume that the covariance matrix of the errors is correctly specified.\n",
              "\"\"\""
            ]
          },
          "execution_count": 78,
          "metadata": {},
          "output_type": "execute_result"
        }
      ],
      "source": [
        "x = sm.add_constant(X)\n",
        "est = sm.OLS(y,x).fit()\n",
        "est.summary()"
      ]
    },
    {
      "cell_type": "code",
      "execution_count": null,
      "id": "7c992375",
      "metadata": {
        "id": "7c992375",
        "outputId": "1ce0a478-7dd3-4eaa-f4ef-edd8aea08f5a"
      },
      "outputs": [
        {
          "data": {
            "text/plain": [
              "[55, 11, 77, 2.5, 3]"
            ]
          },
          "execution_count": 133,
          "metadata": {},
          "output_type": "execute_result"
        }
      ],
      "source": [
        "k"
      ]
    },
    {
      "cell_type": "code",
      "execution_count": null,
      "id": "a0a76104",
      "metadata": {
        "id": "a0a76104",
        "outputId": "8035e8d6-6411-467a-fa13-c56de745d1d4"
      },
      "outputs": [
        {
          "data": {
            "text/plain": [
              "9.8611"
            ]
          },
          "execution_count": 138,
          "metadata": {},
          "output_type": "execute_result"
        }
      ],
      "source": [
        "no2 = 7.9457+(77*-0.0748)+(2.5*0.9796)+(1.7420*3)\n",
        "no2"
      ]
    },
    {
      "cell_type": "code",
      "execution_count": null,
      "id": "71d54e00",
      "metadata": {
        "id": "71d54e00",
        "outputId": "4d9fb7a1-bb19-435d-c09a-2eed701c3a19"
      },
      "outputs": [
        {
          "data": {
            "text/html": [
              "<div>\n",
              "<style scoped>\n",
              "    .dataframe tbody tr th:only-of-type {\n",
              "        vertical-align: middle;\n",
              "    }\n",
              "\n",
              "    .dataframe tbody tr th {\n",
              "        vertical-align: top;\n",
              "    }\n",
              "\n",
              "    .dataframe thead th {\n",
              "        text-align: right;\n",
              "    }\n",
              "</style>\n",
              "<table border=\"1\" class=\"dataframe\">\n",
              "  <thead>\n",
              "    <tr style=\"text-align: right;\">\n",
              "      <th></th>\n",
              "      <th>eligibility score</th>\n",
              "      <th>age</th>\n",
              "      <th>year_emp</th>\n",
              "      <th>income</th>\n",
              "      <th>cred_debt</th>\n",
              "      <th>other_debt</th>\n",
              "      <th>Target_Variable</th>\n",
              "    </tr>\n",
              "  </thead>\n",
              "  <tbody>\n",
              "    <tr>\n",
              "      <th>4</th>\n",
              "      <td>12.8</td>\n",
              "      <td>47</td>\n",
              "      <td>26</td>\n",
              "      <td>100</td>\n",
              "      <td>4.58</td>\n",
              "      <td>8.22</td>\n",
              "      <td>Yes</td>\n",
              "    </tr>\n",
              "    <tr>\n",
              "      <th>7</th>\n",
              "      <td>10.9</td>\n",
              "      <td>36</td>\n",
              "      <td>16</td>\n",
              "      <td>32</td>\n",
              "      <td>0.54</td>\n",
              "      <td>2.94</td>\n",
              "      <td>Yes</td>\n",
              "    </tr>\n",
              "    <tr>\n",
              "      <th>8</th>\n",
              "      <td>15.8</td>\n",
              "      <td>49</td>\n",
              "      <td>14</td>\n",
              "      <td>63</td>\n",
              "      <td>0.94</td>\n",
              "      <td>9.02</td>\n",
              "      <td>Yes</td>\n",
              "    </tr>\n",
              "    <tr>\n",
              "      <th>13</th>\n",
              "      <td>12.0</td>\n",
              "      <td>48</td>\n",
              "      <td>17</td>\n",
              "      <td>113</td>\n",
              "      <td>3.38</td>\n",
              "      <td>10.18</td>\n",
              "      <td>Yes</td>\n",
              "    </tr>\n",
              "    <tr>\n",
              "      <th>20</th>\n",
              "      <td>16.5</td>\n",
              "      <td>38</td>\n",
              "      <td>21</td>\n",
              "      <td>58</td>\n",
              "      <td>4.58</td>\n",
              "      <td>4.99</td>\n",
              "      <td>Yes</td>\n",
              "    </tr>\n",
              "  </tbody>\n",
              "</table>\n",
              "</div>"
            ],
            "text/plain": [
              "    eligibility score  age  year_emp  income  cred_debt  other_debt  \\\n",
              "4                12.8   47        26     100       4.58        8.22   \n",
              "7                10.9   36        16      32       0.54        2.94   \n",
              "8                15.8   49        14      63       0.94        9.02   \n",
              "13               12.0   48        17     113       3.38       10.18   \n",
              "20               16.5   38        21      58       4.58        4.99   \n",
              "\n",
              "   Target_Variable  \n",
              "4              Yes  \n",
              "7              Yes  \n",
              "8              Yes  \n",
              "13             Yes  \n",
              "20             Yes  "
            ]
          },
          "execution_count": 79,
          "metadata": {},
          "output_type": "execute_result"
        }
      ],
      "source": [
        "data_yes.head()"
      ]
    },
    {
      "cell_type": "code",
      "execution_count": null,
      "id": "a5732c55",
      "metadata": {
        "id": "a5732c55"
      },
      "outputs": [],
      "source": [
        "ishika = data_yes.copy()"
      ]
    },
    {
      "cell_type": "code",
      "execution_count": null,
      "id": "ee69f4bf",
      "metadata": {
        "id": "ee69f4bf",
        "outputId": "5fd58995-4806-49f1-84b7-1f25638c15e6"
      },
      "outputs": [
        {
          "data": {
            "text/html": [
              "<div>\n",
              "<style scoped>\n",
              "    .dataframe tbody tr th:only-of-type {\n",
              "        vertical-align: middle;\n",
              "    }\n",
              "\n",
              "    .dataframe tbody tr th {\n",
              "        vertical-align: top;\n",
              "    }\n",
              "\n",
              "    .dataframe thead th {\n",
              "        text-align: right;\n",
              "    }\n",
              "</style>\n",
              "<table border=\"1\" class=\"dataframe\">\n",
              "  <thead>\n",
              "    <tr style=\"text-align: right;\">\n",
              "      <th></th>\n",
              "      <th>eligibility score</th>\n",
              "      <th>age</th>\n",
              "      <th>year_emp</th>\n",
              "      <th>income</th>\n",
              "      <th>cred_debt</th>\n",
              "      <th>other_debt</th>\n",
              "    </tr>\n",
              "  </thead>\n",
              "  <tbody>\n",
              "    <tr>\n",
              "      <th>4</th>\n",
              "      <td>12.8</td>\n",
              "      <td>47</td>\n",
              "      <td>26</td>\n",
              "      <td>100</td>\n",
              "      <td>4.58</td>\n",
              "      <td>8.22</td>\n",
              "    </tr>\n",
              "    <tr>\n",
              "      <th>7</th>\n",
              "      <td>10.9</td>\n",
              "      <td>36</td>\n",
              "      <td>16</td>\n",
              "      <td>32</td>\n",
              "      <td>0.54</td>\n",
              "      <td>2.94</td>\n",
              "    </tr>\n",
              "    <tr>\n",
              "      <th>8</th>\n",
              "      <td>15.8</td>\n",
              "      <td>49</td>\n",
              "      <td>14</td>\n",
              "      <td>63</td>\n",
              "      <td>0.94</td>\n",
              "      <td>9.02</td>\n",
              "    </tr>\n",
              "    <tr>\n",
              "      <th>13</th>\n",
              "      <td>12.0</td>\n",
              "      <td>48</td>\n",
              "      <td>17</td>\n",
              "      <td>113</td>\n",
              "      <td>3.38</td>\n",
              "      <td>10.18</td>\n",
              "    </tr>\n",
              "    <tr>\n",
              "      <th>20</th>\n",
              "      <td>16.5</td>\n",
              "      <td>38</td>\n",
              "      <td>21</td>\n",
              "      <td>58</td>\n",
              "      <td>4.58</td>\n",
              "      <td>4.99</td>\n",
              "    </tr>\n",
              "  </tbody>\n",
              "</table>\n",
              "</div>"
            ],
            "text/plain": [
              "    eligibility score  age  year_emp  income  cred_debt  other_debt\n",
              "4                12.8   47        26     100       4.58        8.22\n",
              "7                10.9   36        16      32       0.54        2.94\n",
              "8                15.8   49        14      63       0.94        9.02\n",
              "13               12.0   48        17     113       3.38       10.18\n",
              "20               16.5   38        21      58       4.58        4.99"
            ]
          },
          "execution_count": 83,
          "metadata": {},
          "output_type": "execute_result"
        }
      ],
      "source": [
        "ishika.drop(\"Target_Variable\", axis = 1,inplace = True)\n",
        "ishika.head()"
      ]
    },
    {
      "cell_type": "code",
      "execution_count": null,
      "id": "f8b816c6",
      "metadata": {
        "id": "f8b816c6",
        "outputId": "88da3bed-4611-475d-fbd1-88cb22c15f62"
      },
      "outputs": [
        {
          "data": {
            "text/html": [
              "<div>\n",
              "<style scoped>\n",
              "    .dataframe tbody tr th:only-of-type {\n",
              "        vertical-align: middle;\n",
              "    }\n",
              "\n",
              "    .dataframe tbody tr th {\n",
              "        vertical-align: top;\n",
              "    }\n",
              "\n",
              "    .dataframe thead th {\n",
              "        text-align: right;\n",
              "    }\n",
              "</style>\n",
              "<table border=\"1\" class=\"dataframe\">\n",
              "  <thead>\n",
              "    <tr style=\"text-align: right;\">\n",
              "      <th></th>\n",
              "      <th>age</th>\n",
              "      <th>year_emp</th>\n",
              "      <th>income</th>\n",
              "      <th>cred_debt</th>\n",
              "      <th>other_debt</th>\n",
              "    </tr>\n",
              "  </thead>\n",
              "  <tbody>\n",
              "    <tr>\n",
              "      <th>4</th>\n",
              "      <td>47</td>\n",
              "      <td>26</td>\n",
              "      <td>100</td>\n",
              "      <td>4.58</td>\n",
              "      <td>8.22</td>\n",
              "    </tr>\n",
              "    <tr>\n",
              "      <th>7</th>\n",
              "      <td>36</td>\n",
              "      <td>16</td>\n",
              "      <td>32</td>\n",
              "      <td>0.54</td>\n",
              "      <td>2.94</td>\n",
              "    </tr>\n",
              "    <tr>\n",
              "      <th>8</th>\n",
              "      <td>49</td>\n",
              "      <td>14</td>\n",
              "      <td>63</td>\n",
              "      <td>0.94</td>\n",
              "      <td>9.02</td>\n",
              "    </tr>\n",
              "    <tr>\n",
              "      <th>13</th>\n",
              "      <td>48</td>\n",
              "      <td>17</td>\n",
              "      <td>113</td>\n",
              "      <td>3.38</td>\n",
              "      <td>10.18</td>\n",
              "    </tr>\n",
              "    <tr>\n",
              "      <th>20</th>\n",
              "      <td>38</td>\n",
              "      <td>21</td>\n",
              "      <td>58</td>\n",
              "      <td>4.58</td>\n",
              "      <td>4.99</td>\n",
              "    </tr>\n",
              "  </tbody>\n",
              "</table>\n",
              "</div>"
            ],
            "text/plain": [
              "    age  year_emp  income  cred_debt  other_debt\n",
              "4    47        26     100       4.58        8.22\n",
              "7    36        16      32       0.54        2.94\n",
              "8    49        14      63       0.94        9.02\n",
              "13   48        17     113       3.38       10.18\n",
              "20   38        21      58       4.58        4.99"
            ]
          },
          "execution_count": 84,
          "metadata": {},
          "output_type": "execute_result"
        }
      ],
      "source": [
        "X1 = ishika.drop(\"eligibility score\", axis = 1)\n",
        "X1.head()"
      ]
    },
    {
      "cell_type": "code",
      "execution_count": null,
      "id": "e452cf1a",
      "metadata": {
        "id": "e452cf1a",
        "outputId": "4846c4a7-849a-4854-ba63-8c41b4435c49"
      },
      "outputs": [
        {
          "data": {
            "text/html": [
              "<div>\n",
              "<style scoped>\n",
              "    .dataframe tbody tr th:only-of-type {\n",
              "        vertical-align: middle;\n",
              "    }\n",
              "\n",
              "    .dataframe tbody tr th {\n",
              "        vertical-align: top;\n",
              "    }\n",
              "\n",
              "    .dataframe thead th {\n",
              "        text-align: right;\n",
              "    }\n",
              "</style>\n",
              "<table border=\"1\" class=\"dataframe\">\n",
              "  <thead>\n",
              "    <tr style=\"text-align: right;\">\n",
              "      <th></th>\n",
              "      <th>eligibility score</th>\n",
              "    </tr>\n",
              "  </thead>\n",
              "  <tbody>\n",
              "    <tr>\n",
              "      <th>4</th>\n",
              "      <td>12.8</td>\n",
              "    </tr>\n",
              "    <tr>\n",
              "      <th>7</th>\n",
              "      <td>10.9</td>\n",
              "    </tr>\n",
              "    <tr>\n",
              "      <th>8</th>\n",
              "      <td>15.8</td>\n",
              "    </tr>\n",
              "    <tr>\n",
              "      <th>13</th>\n",
              "      <td>12.0</td>\n",
              "    </tr>\n",
              "    <tr>\n",
              "      <th>20</th>\n",
              "      <td>16.5</td>\n",
              "    </tr>\n",
              "  </tbody>\n",
              "</table>\n",
              "</div>"
            ],
            "text/plain": [
              "    eligibility score\n",
              "4                12.8\n",
              "7                10.9\n",
              "8                15.8\n",
              "13               12.0\n",
              "20               16.5"
            ]
          },
          "execution_count": 87,
          "metadata": {},
          "output_type": "execute_result"
        }
      ],
      "source": [
        "y1 = ishika[[\"eligibility score\"]]\n",
        "y1.head()"
      ]
    },
    {
      "cell_type": "code",
      "execution_count": null,
      "id": "30d743a7",
      "metadata": {
        "id": "30d743a7",
        "outputId": "f90f0ab9-0862-48a8-b20b-7331db155ec1"
      },
      "outputs": [
        {
          "data": {
            "text/html": [
              "<table class=\"simpletable\">\n",
              "<caption>OLS Regression Results</caption>\n",
              "<tr>\n",
              "  <th>Dep. Variable:</th>    <td>eligibility score</td> <th>  R-squared:         </th> <td>   0.848</td>\n",
              "</tr>\n",
              "<tr>\n",
              "  <th>Model:</th>                   <td>OLS</td>        <th>  Adj. R-squared:    </th> <td>   0.829</td>\n",
              "</tr>\n",
              "<tr>\n",
              "  <th>Method:</th>             <td>Least Squares</td>   <th>  F-statistic:       </th> <td>   46.73</td>\n",
              "</tr>\n",
              "<tr>\n",
              "  <th>Date:</th>             <td>Fri, 13 Jan 2023</td>  <th>  Prob (F-statistic):</th> <td>4.32e-16</td>\n",
              "</tr>\n",
              "<tr>\n",
              "  <th>Time:</th>                 <td>12:00:49</td>      <th>  Log-Likelihood:    </th> <td> -111.60</td>\n",
              "</tr>\n",
              "<tr>\n",
              "  <th>No. Observations:</th>      <td>    48</td>       <th>  AIC:               </th> <td>   235.2</td>\n",
              "</tr>\n",
              "<tr>\n",
              "  <th>Df Residuals:</th>          <td>    42</td>       <th>  BIC:               </th> <td>   246.4</td>\n",
              "</tr>\n",
              "<tr>\n",
              "  <th>Df Model:</th>              <td>     5</td>       <th>                     </th>     <td> </td>   \n",
              "</tr>\n",
              "<tr>\n",
              "  <th>Covariance Type:</th>      <td>nonrobust</td>     <th>                     </th>     <td> </td>   \n",
              "</tr>\n",
              "</table>\n",
              "<table class=\"simpletable\">\n",
              "<tr>\n",
              "       <td></td>         <th>coef</th>     <th>std err</th>      <th>t</th>      <th>P>|t|</th>  <th>[0.025</th>    <th>0.975]</th>  \n",
              "</tr>\n",
              "<tr>\n",
              "  <th>const</th>      <td>   15.6561</td> <td>    1.847</td> <td>    8.475</td> <td> 0.000</td> <td>   11.928</td> <td>   19.384</td>\n",
              "</tr>\n",
              "<tr>\n",
              "  <th>age</th>        <td>   -0.0345</td> <td>    0.062</td> <td>   -0.560</td> <td> 0.578</td> <td>   -0.159</td> <td>    0.090</td>\n",
              "</tr>\n",
              "<tr>\n",
              "  <th>year_emp</th>   <td>   -0.0302</td> <td>    0.086</td> <td>   -0.353</td> <td> 0.726</td> <td>   -0.203</td> <td>    0.142</td>\n",
              "</tr>\n",
              "<tr>\n",
              "  <th>income</th>     <td>   -0.2326</td> <td>    0.031</td> <td>   -7.458</td> <td> 0.000</td> <td>   -0.296</td> <td>   -0.170</td>\n",
              "</tr>\n",
              "<tr>\n",
              "  <th>cred_debt</th>  <td>    1.2656</td> <td>    0.207</td> <td>    6.129</td> <td> 0.000</td> <td>    0.849</td> <td>    1.682</td>\n",
              "</tr>\n",
              "<tr>\n",
              "  <th>other_debt</th> <td>    1.9614</td> <td>    0.241</td> <td>    8.153</td> <td> 0.000</td> <td>    1.476</td> <td>    2.447</td>\n",
              "</tr>\n",
              "</table>\n",
              "<table class=\"simpletable\">\n",
              "<tr>\n",
              "  <th>Omnibus:</th>       <td>19.252</td> <th>  Durbin-Watson:     </th> <td>   1.889</td>\n",
              "</tr>\n",
              "<tr>\n",
              "  <th>Prob(Omnibus):</th> <td> 0.000</td> <th>  Jarque-Bera (JB):  </th> <td>  26.744</td>\n",
              "</tr>\n",
              "<tr>\n",
              "  <th>Skew:</th>          <td> 1.339</td> <th>  Prob(JB):          </th> <td>1.56e-06</td>\n",
              "</tr>\n",
              "<tr>\n",
              "  <th>Kurtosis:</th>      <td> 5.491</td> <th>  Cond. No.          </th> <td>    297.</td>\n",
              "</tr>\n",
              "</table><br/><br/>Notes:<br/>[1] Standard Errors assume that the covariance matrix of the errors is correctly specified."
            ],
            "text/plain": [
              "<class 'statsmodels.iolib.summary.Summary'>\n",
              "\"\"\"\n",
              "                            OLS Regression Results                            \n",
              "==============================================================================\n",
              "Dep. Variable:      eligibility score   R-squared:                       0.848\n",
              "Model:                            OLS   Adj. R-squared:                  0.829\n",
              "Method:                 Least Squares   F-statistic:                     46.73\n",
              "Date:                Fri, 13 Jan 2023   Prob (F-statistic):           4.32e-16\n",
              "Time:                        12:00:49   Log-Likelihood:                -111.60\n",
              "No. Observations:                  48   AIC:                             235.2\n",
              "Df Residuals:                      42   BIC:                             246.4\n",
              "Df Model:                           5                                         \n",
              "Covariance Type:            nonrobust                                         \n",
              "==============================================================================\n",
              "                 coef    std err          t      P>|t|      [0.025      0.975]\n",
              "------------------------------------------------------------------------------\n",
              "const         15.6561      1.847      8.475      0.000      11.928      19.384\n",
              "age           -0.0345      0.062     -0.560      0.578      -0.159       0.090\n",
              "year_emp      -0.0302      0.086     -0.353      0.726      -0.203       0.142\n",
              "income        -0.2326      0.031     -7.458      0.000      -0.296      -0.170\n",
              "cred_debt      1.2656      0.207      6.129      0.000       0.849       1.682\n",
              "other_debt     1.9614      0.241      8.153      0.000       1.476       2.447\n",
              "==============================================================================\n",
              "Omnibus:                       19.252   Durbin-Watson:                   1.889\n",
              "Prob(Omnibus):                  0.000   Jarque-Bera (JB):               26.744\n",
              "Skew:                           1.339   Prob(JB):                     1.56e-06\n",
              "Kurtosis:                       5.491   Cond. No.                         297.\n",
              "==============================================================================\n",
              "\n",
              "Notes:\n",
              "[1] Standard Errors assume that the covariance matrix of the errors is correctly specified.\n",
              "\"\"\""
            ]
          },
          "execution_count": 88,
          "metadata": {},
          "output_type": "execute_result"
        }
      ],
      "source": [
        "x = sm.add_constant(X1)\n",
        "est = sm.OLS(y1,x).fit()\n",
        "est.summary()"
      ]
    },
    {
      "cell_type": "code",
      "execution_count": null,
      "id": "b44410fe",
      "metadata": {
        "id": "b44410fe",
        "outputId": "996ec684-8c5f-4c28-b201-f2b67dee7412"
      },
      "outputs": [
        {
          "data": {
            "text/plain": [
              "[55, 11, 77, 2.5, 3]"
            ]
          },
          "execution_count": 136,
          "metadata": {},
          "output_type": "execute_result"
        }
      ],
      "source": [
        "k"
      ]
    },
    {
      "cell_type": "code",
      "execution_count": null,
      "id": "ba86d81f",
      "metadata": {
        "id": "ba86d81f",
        "outputId": "7a73aefa-b59a-4a96-ecc8-3ae903a0d9e6"
      },
      "outputs": [
        {
          "data": {
            "text/plain": [
              "6.7941"
            ]
          },
          "execution_count": 139,
          "metadata": {},
          "output_type": "execute_result"
        }
      ],
      "source": [
        "yes2 = 15.6561+(77*-0.2326)+(2.5*1.2656)+(1.9614*3)\n",
        "yes2"
      ]
    },
    {
      "cell_type": "code",
      "execution_count": null,
      "id": "251cabea",
      "metadata": {
        "id": "251cabea",
        "outputId": "83d34759-de39-4723-cac0-babe600b652a"
      },
      "outputs": [
        {
          "name": "stdout",
          "output_type": "stream",
          "text": [
            "Yes\n"
          ]
        }
      ],
      "source": [
        "if yes2< no2:\n",
        "    print(\"Yes\")\n",
        "else:\n",
        "    print(\"No\")"
      ]
    }
  ],
  "metadata": {
    "kernelspec": {
      "display_name": "Python 3 (ipykernel)",
      "language": "python",
      "name": "python3"
    },
    "language_info": {
      "codemirror_mode": {
        "name": "ipython",
        "version": 3
      },
      "file_extension": ".py",
      "mimetype": "text/x-python",
      "name": "python",
      "nbconvert_exporter": "python",
      "pygments_lexer": "ipython3",
      "version": "3.9.12"
    },
    "colab": {
      "provenance": []
    }
  },
  "nbformat": 4,
  "nbformat_minor": 5
}